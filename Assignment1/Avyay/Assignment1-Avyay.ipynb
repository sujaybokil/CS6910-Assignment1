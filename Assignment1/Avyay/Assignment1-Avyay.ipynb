{
 "cells": [
  {
   "cell_type": "code",
   "execution_count": 1,
   "metadata": {},
   "outputs": [],
   "source": [
    "from copy import deepcopy\n",
    "import numpy as np \n",
    "import wandb\n",
    "from sklearn.datasets import make_classification\n",
    "import tensorflow as tf\n",
    "\n",
    "import matplotlib as mpl \n",
    "mpl.rcParams['figure.facecolor'] = \"white\"\n",
    "import matplotlib.pyplot as plt \n",
    "from sklearn.model_selection import train_test_split"
   ]
  },
  {
   "cell_type": "code",
   "execution_count": 18,
   "metadata": {},
   "outputs": [],
   "source": [
    "#Function used for WandB sweep\n",
    "def train():\n",
    "\n",
    "    config_defaults = {\n",
    "        'n_layers': 3,\n",
    "        'layer_size': 32,\n",
    "        'weight_decay': 0,\n",
    "        'lr': 1e-3,\n",
    "        'optimizer': 'sgd',\n",
    "        'batch_size': 32,\n",
    "        'init_method': 'random',\n",
    "        'activation': 'relu',\n",
    "        'epochs': 5\n",
    "    }\n",
    "\n",
    "    wandb.init(config=config_defaults, magic=True)\n",
    "\n",
    "    fashion_mnist = tf.keras.datasets.fashion_mnist\n",
    "    (train_images, train_labels), (test_images, test_labels) = fashion_mnist.load_data()\n",
    "    class_names = ['T-shirt/top', 'Trouser', 'Pullover', 'Dress', 'Coat',\n",
    "                    'Sandal', 'Shirt', 'Sneaker', 'Bag', 'Ankle boot']\n",
    "\n",
    "    train_images = flatten(train_images / 255.0)\n",
    "    test_images = flatten(test_images / 255.0)   \n",
    "\n",
    "    train_images, val_images, train_labels, val_labels = train_test_split(train_images, train_labels, test_size=0.1, shuffle=True)\n",
    "\n",
    "    model = NeuralNet(create_layers(wandb.config.n_layers, \n",
    "                                    wandb.config.layer_size, \n",
    "                                    wandb.config.activation, \n",
    "                                    wandb.config.weight_decay,\n",
    "                                    wandb.config.init_method))\n",
    "\n",
    "    \n",
    "    model.compile(loss=CrossEntropyLossFromLogits(), optimizer=get_optimizer(wandb.config.optimizer, wandb.config.lr))\n",
    "    \n",
    "    model.fit(train_images, train_labels, val_images, val_labels, batch_size=wandb.config.batch_size, epochs=wandb.config.epochs)\n",
    "\n",
    "   \n"
   ]
  },
  {
   "cell_type": "markdown",
   "metadata": {},
   "source": [
    "# Templates of Classes"
   ]
  },
  {
   "cell_type": "code",
   "execution_count": 3,
   "metadata": {},
   "outputs": [],
   "source": [
    "\"\"\"\n",
    "Module to create template classes for Autodifferentiable losses/activations/layers\n",
    "\"\"\"\n",
    "\n",
    "\n",
    "class AutoDiffFunction():\n",
    "    \"\"\"Format for any function in general which has to be auto-differentiable\n",
    "    \"\"\"\n",
    "\n",
    "    def __init__(self, *args, **kwds) -> None:\n",
    "        self.saved_for_backward = {}\n",
    "        self.grad = {}\n",
    "\n",
    "    def __call__(self, *args, **kwds):\n",
    "\n",
    "        output = self.forward(*args, **kwds)\n",
    "        self.grad = self.compute_grad(*args, **kwds)\n",
    "        return output\n",
    "\n",
    "    def forward(self, *args, **kwds):\n",
    "        pass\n",
    "\n",
    "    def compute_grad(self, *args, **kwds):\n",
    "        pass\n",
    "\n",
    "    def backward(self, *args, **kwds):\n",
    "        pass\n",
    "\n",
    "\n",
    "class Layer(AutoDiffFunction):\n",
    "    \"\"\"Format to create your own custom layer for the model\n",
    "    \"\"\"\n",
    "    def __init__(self, *args, **kwds) -> None:\n",
    "        super().__init__(*args, **kwds)\n",
    "\n",
    "        self.weights = {}\n",
    "        self.optimizer = None\n",
    "\n",
    "    def initialize_weights(self, *args, **kwds):\n",
    "        pass\n",
    "\n",
    "    def update_weights(self):\n",
    "\n",
    "        self.optimizer.step(self)\n",
    "\n",
    "\n",
    "class Loss(AutoDiffFunction):\n",
    "    \"\"\"Format to create a custom loss function\n",
    "    \"\"\"\n",
    "\n",
    "    def forward(self, y_true, y_pred):\n",
    "        pass \n",
    "\n",
    "    def backward(self):\n",
    "        return self.grad[\"x\"]\n",
    "\n",
    "    def compute_grad(self, y_true, y_pred):\n",
    "        pass\n",
    "\n",
    "\n",
    "class Optimizer():\n",
    "    \"\"\"Format to create a custom optimizer\n",
    "    \"\"\"\n",
    "    def __init__(self, *args, **kwds):\n",
    "        self.remember = {}\n",
    "        pass\n",
    "\n",
    "    def add_params(self, *args, **kwds):\n",
    "        pass\n",
    "\n",
    "    def step(self, layer):\n",
    "        pass    "
   ]
  },
  {
   "cell_type": "markdown",
   "metadata": {},
   "source": [
    "# Activation Functions"
   ]
  },
  {
   "cell_type": "code",
   "execution_count": 4,
   "metadata": {},
   "outputs": [],
   "source": [
    "class Sigmoid(AutoDiffFunction):\n",
    "    def __init__(self) -> None:\n",
    "        super().__init__()\n",
    "\n",
    "    def forward(self, x):\n",
    "        self.saved_for_backward = 1/(1 + np.exp(-x))\n",
    "        return self.saved_for_backward\n",
    "\n",
    "    def compute_grad(self, x):\n",
    "        y = self.saved_for_backward\n",
    "\n",
    "        return {\"x\": y*(1-y)}\n",
    "\n",
    "    def backward(self, dy):\n",
    "        return dy * self.grad[\"x\"]      \n",
    "\n",
    "\n",
    "class RelU(AutoDiffFunction):\n",
    "    def __init__(self) -> None:\n",
    "        super().__init__()\n",
    "\n",
    "    def forward(self, x):\n",
    "        self.saved_for_backward = np.where(x>0.0, 1.0, 0.0)\n",
    "\n",
    "        return x * self.saved_for_backward\n",
    "\n",
    "    def compute_grad(self, x):\n",
    "        return {\"x\": self.saved_for_backward}\n",
    "\n",
    "    def backward(self, dy):\n",
    "        return dy * self.grad[\"x\"]\n",
    "    \n",
    "class Tanh(AutoDiffFunction):\n",
    "    def __init__(self) -> None:\n",
    "        super().__init__()\n",
    "\n",
    "    def forward(self, x):\n",
    "        self.saved_for_backward = (np.exp(x) - np.exp(-x)) / (np.exp(x) + np.exp(-x))\n",
    "\n",
    "        return self.saved_for_backward\n",
    "\n",
    "    def compute_grad(self, x):\n",
    "        y = self.saved_for_backward\n",
    "\n",
    "        return {\"x\": 1 - y**2}\n",
    "\n",
    "    def backward(self, dy):\n",
    "        return dy * self.grad[\"x\"]\n",
    "    \n",
    "class Softmax(AutoDiffFunction):\n",
    "    def __init__(self) -> None:\n",
    "        super().__init__()\n",
    "\n",
    "    def forward(self, x):\n",
    "        v = np.exp(x)\n",
    "        self.saved_for_backward = v\n",
    "\n",
    "        return v / np.sum(v, axis=1, keepdims=True)\n",
    "\n",
    "    def compute_grad(self, x):\n",
    "        pass\n",
    "\n",
    "    def backward(self, dy):\n",
    "        return dy * self.grad[\"x\"]"
   ]
  },
  {
   "cell_type": "markdown",
   "metadata": {},
   "source": [
    "# Layers"
   ]
  },
  {
   "cell_type": "code",
   "execution_count": 5,
   "metadata": {},
   "outputs": [],
   "source": [
    "class FC(Layer):\n",
    "    def __init__(self, in_dim, out_dim, weight_decay=None, init_method=\"random\") -> None:\n",
    "        super().__init__()\n",
    "        self.weight_decay = weight_decay\n",
    "        self.init_method = init_method\n",
    "        self.initialize_weights(in_dim, out_dim)\n",
    "\n",
    "    def initialize_weights(self, in_dim, out_dim):\n",
    "        \n",
    "        if self.init_method == \"random\":\n",
    "            scaling_factor = 1/np.sqrt(in_dim)\n",
    "            self.weights[\"w\"] = np.random.randn(in_dim, out_dim) * scaling_factor\n",
    "            self.weights[\"b\"] = np.random.randn(1, out_dim) * scaling_factor\n",
    "        elif self.init_method == \"xavier\":\n",
    "            lim = np.sqrt(6 / (in_dim + out_dim))\n",
    "            self.weights[\"w\"] = np.random.uniform(low=-lim, high=lim, size=(in_dim, out_dim))\n",
    "            self.weights[\"b\"] = np.random.uniform(low=-lim, high=lim, size=(1, out_dim))\n",
    "\n",
    "    def compute_grad(self, x):\n",
    "        \n",
    "        gradients = {}\n",
    "\n",
    "        # y = x * w + b        \n",
    "        # we compute gradients wrt w and x \n",
    "        # gradient wrt b is not required explicitly since we know that it's value is 1\n",
    "        gradients[\"w\"] = self.saved_for_backward[\"x\"].T\n",
    "        gradients[\"x\"] = self.weights[\"w\"].T\n",
    "\n",
    "        return gradients\n",
    "\n",
    "\n",
    "    def forward(self, x):\n",
    "        output = x @ self.weights[\"w\"] + self.weights[\"b\"]\n",
    "        self.saved_for_backward[\"x\"] = x\n",
    "        \n",
    "        return output\n",
    "\n",
    "    def backward(self, dy):\n",
    "        \n",
    "        # calculating gradients wrt input to pass on to previous layer for backprop\n",
    "        dx = dy @ self.grad[\"x\"]\n",
    "        \n",
    "        # calculating gradients wrt weights\n",
    "        dw = self.grad[\"w\"] @ dy\n",
    "        db = np.sum(dy, axis=0, keepdims=True)\n",
    "\n",
    "        # accomodating for weight_decay / regularization\n",
    "        if self.weight_decay:\n",
    "            dw = dw + 2 * self.weight_decay * self.weights[\"w\"]\n",
    "            db = db + 2 * self.weight_decay * self.weights[\"b\"]\n",
    "\n",
    "        self.absolute_gradients = {\"w\": dw, \"b\": db}\n",
    "\n",
    "        return dx\n",
    "\n",
    "    def update_weights(self):\n",
    "        self.optimizer.step(self)"
   ]
  },
  {
   "cell_type": "markdown",
   "metadata": {},
   "source": [
    "# Loss Functions"
   ]
  },
  {
   "cell_type": "code",
   "execution_count": 6,
   "metadata": {},
   "outputs": [],
   "source": [
    "class CrossEntropyLossFromLogits(Loss):\n",
    "    def __init__(self) -> None:\n",
    "        super().__init__()\n",
    "        self.n_classes = None\n",
    "\n",
    "    @staticmethod\n",
    "    def softmax(x):\n",
    "        v = np.exp(x)\n",
    "        return v / np.sum(v, axis=1, keepdims=True)\n",
    "\n",
    "    def encode(self, y): \n",
    "        encoded_y = np.zeros(shape=(len(y), self.n_classes))\n",
    "\n",
    "        for i in range(len(y)):\n",
    "            encoded_y[i,y[i]] = 1\n",
    "\n",
    "        return encoded_y\n",
    "\n",
    "    def forward(self, y_pred, y_true):\n",
    "         \n",
    "        probabilities = self.softmax(y_pred)\n",
    "        y_true_encoded = self.encode(y_true)\n",
    "\n",
    "        loss_value = np.mean(np.sum(- y_true_encoded * np.log(probabilities), axis=1))\n",
    "\n",
    "        self.saved_for_backward[\"probabilities\"] = probabilities\n",
    "        self.saved_for_backward[\"y_true\"] = y_true_encoded\n",
    "\n",
    "        return loss_value\n",
    "\n",
    "    def compute_grad(self, y_pred, y_true):\n",
    "\n",
    "        return {\"x\": self.saved_for_backward[\"probabilities\"] - self.saved_for_backward[\"y_true\"]}\n",
    "    \n",
    "class MSELossFromLogits(Loss):\n",
    "    def __init__(self) -> None:\n",
    "        super().__init__()\n",
    "        self.n_classes = None\n",
    "\n",
    "    @staticmethod\n",
    "    def softmax(x):\n",
    "        maxes_vec = np.expand_dims(np.amax(x,axis=1), axis=1)\n",
    "        maxes_arr = np.tile(maxes_vec, (1,x.shape[1]))\n",
    "        v = np.exp(x - maxes_arr)\n",
    "\n",
    "        return v / np.sum(v, axis=1, keepdims=True)\n",
    "\n",
    "    def encode(self, y): \n",
    "        encoded_y = np.zeros(shape=(len(y), self.n_classes))\n",
    "\n",
    "        for i in range(len(y)):\n",
    "            encoded_y[i,y[i]] = 1\n",
    "\n",
    "        return encoded_y\n",
    "    \n",
    "    @staticmethod\n",
    "    def indicator(i, j):\n",
    "        ind = {True: 1, False: 0}\n",
    "        return ind[i==j]\n",
    "\n",
    "    def forward(self, y_pred, y_true):\n",
    "         \n",
    "        probabilities = self.softmax(y_pred)\n",
    "        y_true_encoded = self.encode(y_true)\n",
    "\n",
    "        loss_value = np.mean(np.sum((probabilities - y_true_encoded)**2, axis=1))\n",
    "\n",
    "        self.saved_for_backward[\"probabilities\"] = probabilities\n",
    "        self.saved_for_backward[\"y_true\"] = y_true_encoded\n",
    "\n",
    "        return loss_value\n",
    "\n",
    "    def compute_grad(self, y_pred, y_true):\n",
    "\n",
    "        probs = self.saved_for_backward[\"probabilities\"]\n",
    "        labels = self.saved_for_backward[\"y_true\"]\n",
    "        grad = np.zeros(shape=(len(y_true), self.n_classes))\n",
    "        \n",
    "        for point_counter in range(len(y_true)):\n",
    "            res = 0\n",
    "            for i in range(self.n_classes):\n",
    "                for j in range(self.n_classes):\n",
    "                    \n",
    "                    res = probs[point_counter, j] * (probs[point_counter, j] - labels[point_counter, j]) * (self.indicator(i,j) - probs[point_counter, i])\n",
    "                \n",
    "                grad[point_counter, i] = res\n",
    "        \n",
    "        return {\"x\": grad}"
   ]
  },
  {
   "cell_type": "markdown",
   "metadata": {},
   "source": [
    "# Optimizers"
   ]
  },
  {
   "cell_type": "code",
   "execution_count": 17,
   "metadata": {},
   "outputs": [],
   "source": [
    "class SGD(Optimizer):\n",
    "    def __init__(self, lr=1e-2):\n",
    "        super().__init__()\n",
    "        self.lr = lr\n",
    "\n",
    "    def step(self, layer):\n",
    "\n",
    "        for weight_name, _ in layer.weights.items():\n",
    "            layer.weights[weight_name] = layer.weights[weight_name] - self.lr * layer.absolute_gradients[weight_name]\n",
    "            \n",
    "class Momentum(Optimizer):\n",
    "    def __init__(self, lr=1e-3, gamma=0.9):\n",
    "        super().__init__()\n",
    "        self.lr = lr\n",
    "        self.gamma = gamma\n",
    "        \n",
    "    def step(self, layer):\n",
    "        \n",
    "        #Initialise update history\n",
    "        if self.remember == {}:\n",
    "            for weight_name, weight in layer.weights.items():\n",
    "                self.remember[weight_name] = {}\n",
    "                self.remember[weight_name][\"v\"] = np.zeros_like(weight)\n",
    "        \n",
    "        #Momentum update rule\n",
    "        for weight_name, weight in layer.weights.items():\n",
    "            self.remember[weight_name][\"v\"] = self.gamma * self.remember[weight_name][\"v\"] + \\\n",
    "                                                self.lr * layer.absolute_gradients[weight_name]\n",
    "            layer.weights[weight_name] = layer.weights[weight_name] - self.remember[weight_name][\"v\"]\n",
    "\n",
    "class NAG(Optimizer):\n",
    "    def __init__(self, lr=1e-3, gamma=0.9) -> None:\n",
    "        super().__init__()\n",
    "        self.lr = lr\n",
    "        self.gamma = gamma \n",
    "\n",
    "    def step(self, layer):\n",
    "\n",
    "        if self.remember == {}:\n",
    "            for weight_name, weight in layer.weights.items():\n",
    "                self.remember[weight_name] = {}\n",
    "                self.remember[weight_name][\"v\"] = np.zeros_like(weight)\n",
    "\n",
    "        for weight_name, weight in layer.weights.items():\n",
    "            layer.weights[weight_name] = layer.weights[weight_name] + (self.gamma**2) * self.remember[weight_name][\"v\"] - \\\n",
    "                                            (1 + self.gamma) * self.lr * layer.absolute_gradients[weight_name]\n",
    "\n",
    "            self.remember[weight_name][\"v\"] = self.remember[weight_name][\"v\"] * self.gamma - \\\n",
    "                                                self.lr * layer.absolute_gradients[weight_name]\n",
    "\n",
    "class RMSprop(Optimizer):\n",
    "    def __init__(self, lr=1e-3, beta=0.9, epsilon=1e-7):\n",
    "        super().__init__()\n",
    "        self.lr = lr\n",
    "        self.beta = beta\n",
    "        self.epsilon = epsilon\n",
    "        \n",
    "    def step(self, layer):\n",
    "        \n",
    "        #Initialise update history\n",
    "        if self.remember == {}:\n",
    "            for weight_name, weight in layer.weights.items():\n",
    "                self.remember[weight_name] = {}\n",
    "                self.remember[weight_name][\"v\"] = np.zeros_like(weight)\n",
    "        \n",
    "        #RMSprop update rule\n",
    "        for weight_name, weight in layer.weights.items():\n",
    "            self.remember[weight_name][\"v\"] = self.beta * self.remember[weight_name][\"v\"] + \\\n",
    "                                                (1 - self.beta) * (layer.absolute_gradients[weight_name] ** 2)\n",
    "            layer.weights[weight_name] = layer.weights[weight_name] - (self.lr / (np.sqrt(self.remember[weight_name][\"v\"] + \\\n",
    "                                                self.epsilon))) * layer.weights[weight_name]\n",
    "\n",
    "class Adam(Optimizer):\n",
    "    def __init__(self, lr=1e-3, beta_1=0.9, beta_2=0.999, epsilon=1e-7):\n",
    "        super().__init__()\n",
    "        self.lr = lr\n",
    "        self.beta_1 = beta_1\n",
    "        self.beta_2 = beta_2\n",
    "        self.epsilon = epsilon\n",
    "        self.t = 1\n",
    "        \n",
    "    def step(self, layer):\n",
    "        \n",
    "        #Initialise update history\n",
    "        if self.remember == {}:\n",
    "            for weight_name, weight in layer.weights.items():\n",
    "                self.remember[weight_name] = {}\n",
    "                self.remember[weight_name][\"v\"] = np.zeros_like(weight)\n",
    "                self.remember[weight_name][\"m\"] = np.zeros_like(weight)\n",
    "        \n",
    "        #Adam update rule\n",
    "        for weight_name, weight in layer.weights.items():\n",
    "            \n",
    "            #Update m_t and v_t\n",
    "            self.remember[weight_name][\"m\"] = self.beta_1 * self.remember[weight_name][\"m\"] + \\\n",
    "                                                (1 -self.beta_1) * layer.absolute_gradients[weight_name]\n",
    "            \n",
    "            self.remember[weight_name][\"v\"] = self.beta_2 * self.remember[weight_name][\"v\"] + \\\n",
    "                                                (1 - self.beta_2) * (layer.absolute_gradients[weight_name]**2)\n",
    "            \n",
    "            #Bias correction\n",
    "            m_hat = self.remember[weight_name][\"m\"]/(1 - self.beta_1 ** self.t)\n",
    "            v_hat = self.remember[weight_name][\"v\"]/(1 - self.beta_2 ** self.t)\n",
    "            \n",
    "            #Update parameters\n",
    "            layer.weights[weight_name] = layer.weights[weight_name] - (self.lr / (np.sqrt(v_hat + self.epsilon))) * m_hat\n",
    "            \n",
    "        self.t += 1\n",
    "            \n",
    "class Nadam(Optimizer):\n",
    "    def __init__(self, lr=0.002, beta_1=0.9, beta_2=0.999, epsilon=1e-7):\n",
    "        super().__init__()\n",
    "        self.lr = lr\n",
    "        self.beta_1 = beta_1\n",
    "        self.beta_2 = beta_2\n",
    "        self.epsilon = epsilon\n",
    "        self.t = 1\n",
    "\n",
    "    def step(self, layer):\n",
    "        \n",
    "        # we have 2 parameters to remember m(t) and v(t) for all weights in the layer\n",
    "        if self.remember == {}:\n",
    "            for weight_name, weight in layer.weights.items():\n",
    "                self.remember[weight_name] = {}\n",
    "                self.remember[weight_name][\"v\"] = np.zeros_like(weight)\n",
    "                self.remember[weight_name][\"m\"] = np.zeros_like(weight)\n",
    "\n",
    "        for weight_name, weight in layer.weights.items():\n",
    "            \n",
    "            self.remember[weight_name][\"m\"] = self.beta_1 * self.remember[weight_name][\"m\"] + \\\n",
    "                                                (1 -self.beta_1) * layer.absolute_gradients[weight_name]\n",
    "\n",
    "            self.remember[weight_name][\"v\"] = self.beta_2 * self.remember[weight_name][\"v\"] + \\\n",
    "                                                (1 - self.beta_2) * layer.absolute_gradients[weight_name]**2\n",
    "\n",
    "            # bias correction step \n",
    "            m_hat = self.remember[weight_name][\"m\"]/(1 - self.beta_1 ** self.t)\n",
    "            v_hat = self.remember[weight_name][\"v\"]/(1 - self.beta_2 ** self.t)\n",
    "\n",
    "            d = self.lr / (np.sqrt(v_hat) + self.epsilon) * (self.beta_1*m_hat + (1-self.beta_1)/\n",
    "                                                (1-self.beta_1 ** self.t) * layer.absolute_gradients[weight_name]) \n",
    "\n",
    "            layer.weights[weight_name] = layer.weights[weight_name] - d\n",
    "\n",
    "        self.t += 1"
   ]
  },
  {
   "cell_type": "markdown",
   "metadata": {},
   "source": [
    "# Neural Network Structure"
   ]
  },
  {
   "cell_type": "code",
   "execution_count": 9,
   "metadata": {},
   "outputs": [],
   "source": [
    "class NeuralNet():\n",
    "    def __init__(self, layers) -> None:\n",
    "        self.layers = layers\n",
    "        self.history = []\n",
    "\n",
    "    def __call__(self, *args, **kwds):\n",
    "        return self.forward(*args, **kwds)\n",
    "\n",
    "    def compile(self, loss, optimizer):\n",
    "        self.loss = loss\n",
    "\n",
    "        for layer in self.layers:\n",
    "            if isinstance(layer, Layer):\n",
    "                layer.optimizer = deepcopy(optimizer)\n",
    "\n",
    "    def calculate_loss(self, y_pred, y_true):\n",
    "        return self.loss(y_pred, y_true)\n",
    "\n",
    "    def forward(self, x):\n",
    "        for layer in self.layers:\n",
    "            x = layer(x)\n",
    "\n",
    "        return x\n",
    "\n",
    "    def backward(self):\n",
    "\n",
    "        gradient = self.loss.backward()\n",
    "        for layer in reversed(self.layers):\n",
    "            gradient = layer.backward(gradient)\n",
    "\n",
    "        return gradient\n",
    "\n",
    "    def update_weights(self):\n",
    "\n",
    "        for layer in reversed(self.layers):\n",
    "            if isinstance(layer, Layer):\n",
    "                layer.update_weights()\n",
    "\n",
    "    @staticmethod\n",
    "    def accuracy_score(y_pred, y_true):\n",
    "\n",
    "        pred_labels = np.argmax(y_pred, axis=1)\n",
    "        return np.sum(pred_labels == y_true) / len(y_true)\n",
    "\n",
    "    @staticmethod\n",
    "    def create_batches(X, y, batch_size=32):\n",
    "        batches = []\n",
    "\n",
    "        for i in range(len(y) // batch_size):\n",
    "            start_idx = batch_size * i\n",
    "            end_idx = batch_size * (i + 1)\n",
    "\n",
    "            batches.append([X[start_idx: end_idx], y[start_idx: end_idx]])\n",
    "\n",
    "        # take care of the last batch which might have batch_size less than the specified one\n",
    "        if len(y) % batch_size != 0:\n",
    "            batches.append([X[end_idx:], y[end_idx:]])\n",
    "\n",
    "        return batches\n",
    "\n",
    "\n",
    "    def fit(self, X_train, y_train, X_val, y_val, batch_size=32, epochs=10):\n",
    "\n",
    "        # calculate number of classes to pass to the loss function\n",
    "        self.loss.n_classes = len(np.unique(y_train))\n",
    "\n",
    "        train_batches = self.create_batches(X_train, y_train, batch_size=batch_size)\n",
    "        val_batches = self.create_batches(X_val, y_val, batch_size=batch_size)\n",
    "\n",
    "        num_train_batches = len(train_batches)\n",
    "        num_val_batches = len(val_batches)\n",
    "\n",
    "        for epoch in range(1, epochs+1):\n",
    "\n",
    "            total_train_loss = 0\n",
    "            total_train_accuracy = 0\n",
    "\n",
    "            ## TRAINING ##\n",
    "            for X, y in train_batches:\n",
    "\n",
    "                preds = self(X)\n",
    "                total_train_loss += self.loss(preds, y)\n",
    "                total_train_accuracy += self.accuracy_score(preds, y)\n",
    "\n",
    "                _ = self.backward()\n",
    "                self.update_weights()\n",
    "\n",
    "            train_loss_per_epoch = total_train_loss / num_train_batches\n",
    "            train_accuracy = total_train_accuracy / num_train_batches\n",
    "\n",
    "            total_val_loss = 0\n",
    "            total_val_accuracy = 0\n",
    "\n",
    "            ## VALIDATION ##\n",
    "            for X_v, y_v in val_batches:\n",
    "                val_preds = self(X_v)\n",
    "                total_val_loss += self.loss(val_preds, y_v)\n",
    "                total_val_accuracy += self.accuracy_score(val_preds, y_v)\n",
    "            \n",
    "            val_loss_per_epoch = total_val_loss / num_val_batches\n",
    "            val_accuracy = total_val_accuracy / num_val_batches\n",
    "            \n",
    "            print(\"Epoch: {} Train Loss: {:0.6f} Train Accuracy: {:0.6f} Val Loss: {:0.6f} Val Accuracy: {:0.6f}\".format(epoch, train_loss_per_epoch, train_accuracy, val_loss_per_epoch, val_accuracy))\n",
    "\n",
    "            self.history.append({\"Epoch\" : epoch, \n",
    "                                    \"Train Loss\": train_loss_per_epoch,\n",
    "                                    \"Train Accuracy\": train_accuracy,\n",
    "                                    \"Val Loss\": val_loss_per_epoch,\n",
    "                                    \"Val Accuracy\": val_accuracy})\n",
    "            \n",
    "            wandb.log({\"epoch\" : epoch, \n",
    "                        \"train_loss\": train_loss_per_epoch,\n",
    "                        \"train_acc\": train_accuracy,\n",
    "                        \"val_loss\": val_loss_per_epoch,\n",
    "                        \"val_acc\": val_accuracy})\n",
    "\n",
    "        print(\"\\nModel trained successfully!\")"
   ]
  },
  {
   "cell_type": "markdown",
   "metadata": {},
   "source": [
    "# Modularizing the Network Architecture"
   ]
  },
  {
   "cell_type": "code",
   "execution_count": 19,
   "metadata": {},
   "outputs": [],
   "source": [
    "def get_activation(name):\n",
    "    if name == \"relu\":\n",
    "        return RelU()\n",
    "    elif name == \"tanh\":\n",
    "        return Tanh()\n",
    "    elif name == \"sigmoid\":\n",
    "        return Sigmoid()\n",
    "\n",
    "def get_optimizer(name, lr):\n",
    "    if name == \"sgd\":\n",
    "        return SGD(lr=lr)\n",
    "    elif name == \"momentum\":\n",
    "        return Momentum(lr=lr)\n",
    "    elif name == \"rmsprop\":\n",
    "        return RMSprop(lr=lr)\n",
    "    elif name == \"adam\":\n",
    "        return Adam(lr=lr)\n",
    "    elif name == \"nadam\":\n",
    "        return Nadam(lr=lr)\n",
    "\n",
    "def create_layers(n_layers, layer_size, activation, weight_decay, init_method):\n",
    "\n",
    "    layers = []\n",
    "    layers.extend([FC(784,layer_size, weight_decay, init_method), get_activation(activation)])\n",
    "    \n",
    "    for _ in range(n_layers):\n",
    "        layers.extend([FC(layer_size, layer_size, weight_decay, init_method), get_activation(activation)])\n",
    "    \n",
    "    layers.append(FC(layer_size, 10, weight_decay, init_method))\n",
    "\n",
    "    return layers"
   ]
  },
  {
   "cell_type": "markdown",
   "metadata": {},
   "source": [
    "# Testing on Fashion MNIST Dataset"
   ]
  },
  {
   "cell_type": "code",
   "execution_count": 11,
   "metadata": {},
   "outputs": [
    {
     "name": "stdout",
     "output_type": "stream",
     "text": [
      "Train samples: 60000 Test samples: 10000\n"
     ]
    }
   ],
   "source": [
    "fashion_mnist = tf.keras.datasets.fashion_mnist\n",
    "(train_images, train_labels), (test_images, test_labels) = fashion_mnist.load_data()\n",
    "class_names = ['T-shirt/top', 'Trouser', 'Pullover', 'Dress', 'Coat',\n",
    "                   'Sandal', 'Shirt', 'Sneaker', 'Bag', 'Ankle boot']\n",
    "\n",
    "train_images = train_images / 255.0\n",
    "test_images = test_images / 255.0\n",
    "\n",
    "print(f\"Train samples: {train_images.shape[0]} Test samples: {test_images.shape[0]}\")"
   ]
  },
  {
   "cell_type": "code",
   "execution_count": 12,
   "metadata": {},
   "outputs": [
    {
     "data": {
      "image/png": "[encoded data removed]",
      "text/plain": [
       "<Figure size 1080x432 with 10 Axes>"
      ]
     },
     "metadata": {
      "needs_background": "light"
     },
     "output_type": "display_data"
    }
   ],
   "source": [
    "# Utility functions\n",
    "\n",
    "def flatten(arr):\n",
    "    arr = arr.reshape(arr.shape[0], -1)\n",
    "    return arr\n",
    "\n",
    "def plot_labels(data, labels, flatten=False):\n",
    "\n",
    "    class_names = ['T-shirt/top', 'Trouser', 'Pullover', 'Dress', 'Coat',\n",
    "                   'Sandal', 'Shirt', 'Sneaker', 'Bag', 'Ankle boot']\n",
    "    uniq_labels = np.unique(labels)\n",
    "\n",
    "    fig, ax = plt.subplots(2,5, figsize=(15, 6))\n",
    "    fig.subplots_adjust(wspace=0.3, hspace=0.3)\n",
    "    ax = ax.reshape(-1)\n",
    "\n",
    "    for i, label in enumerate(uniq_labels):\n",
    "\n",
    "        img = data[np.where(labels == label)[0][0]]\n",
    "\n",
    "        ax[i].set_title(class_names[label])\n",
    "        \n",
    "        if flatten:\n",
    "            img = img.reshape(28, 28)\n",
    "\n",
    "        ax[i].imshow(img)\n",
    "    \n",
    "    plt.show()\n",
    "\n",
    "plot_labels(train_images, train_labels)"
   ]
  },
  {
   "cell_type": "code",
   "execution_count": 13,
   "metadata": {},
   "outputs": [],
   "source": [
    "train_images = flatten(train_images)\n",
    "test_images = flatten(test_images)\n",
    "\n",
    "train_images, val_images, train_labels, val_labels = train_test_split(train_images, train_labels, test_size=0.1, shuffle=True)"
   ]
  },
  {
   "cell_type": "code",
   "execution_count": 14,
   "metadata": {},
   "outputs": [
    {
     "data": {
      "text/plain": [
       "((54000,), (6000,))"
      ]
     },
     "execution_count": 14,
     "metadata": {},
     "output_type": "execute_result"
    }
   ],
   "source": [
    "train_labels.shape, val_labels.shape"
   ]
  },
  {
   "cell_type": "code",
   "execution_count": 15,
   "metadata": {},
   "outputs": [
    {
     "name": "stdout",
     "output_type": "stream",
     "text": [
      "Create sweep with ID: mbcm7lra\n",
      "Sweep URL: https://wandb.ai/avyay/uncategorized/sweeps/mbcm7lra\n"
     ]
    }
   ],
   "source": [
    "sweep_config = {\n",
    "  \"name\": \"Sweep Test\",\n",
    "  \"method\": \"grid\",\n",
    "  \"parameters\": {\n",
    "        \"epochs\": {\n",
    "            \"values\": [5, 10]\n",
    "        },\n",
    "        \"n_layers\": {\n",
    "            \"values\": [3, 4, 5]\n",
    "        }\n",
    "    }\n",
    "}\n",
    "\n",
    "sweep_id = wandb.sweep(sweep_config)"
   ]
  },
  {
   "cell_type": "code",
   "execution_count": 16,
   "metadata": {},
   "outputs": [
    {
     "name": "stderr",
     "output_type": "stream",
     "text": [
      "wandb: Agent Starting Run: dyxs57fe with config:\n",
      "wandb: \tepochs: 5\n",
      "wandb: \tn_layers: 3\n",
      "wandb: Currently logged in as: avyay (use `wandb login --relogin` to force relogin)\n",
      "C:\\Users\\rao_a\\Miniconda3\\envs\\PythonCPU\\lib\\site-packages\\IPython\\html.py:14: ShimWarning: The `IPython.html` package has been deprecated since IPython 4.0. You should import from `notebook` instead. `IPython.html.widgets` has moved to `ipywidgets`.\n",
      "  \"`IPython.html.widgets` has moved to `ipywidgets`.\", ShimWarning)\n",
      "wandb: wandb version 0.10.22 is available!  To upgrade, please run:\n",
      "wandb:  $ pip install wandb --upgrade\n"
     ]
    },
    {
     "data": {
      "text/html": [
       "\n",
       "                Tracking run with wandb version 0.10.21<br/>\n",
       "                Syncing run <strong style=\"color:#cdcd00\">floral-sweep-1</strong> to <a href=\"https://wandb.ai\" target=\"_blank\">Weights & Biases</a> <a href=\"https://docs.wandb.com/integrations/jupyter.html\" target=\"_blank\">(Documentation)</a>.<br/>\n",
       "                Project page: <a href=\"https://wandb.ai/avyay/uncategorized\" target=\"_blank\">https://wandb.ai/avyay/uncategorized</a><br/>\n",
       "                Sweep page: <a href=\"https://wandb.ai/avyay/uncategorized/sweeps/mbcm7lra\" target=\"_blank\">https://wandb.ai/avyay/uncategorized/sweeps/mbcm7lra</a><br/>\n",
       "Run page: <a href=\"https://wandb.ai/avyay/uncategorized/runs/dyxs57fe\" target=\"_blank\">https://wandb.ai/avyay/uncategorized/runs/dyxs57fe</a><br/>\n",
       "                Run data is saved locally in <code>C:\\Users\\rao_a\\PythonCPU\\Deep Learning\\CS6910-Assignments-1\\Assignment1\\Avyay\\wandb\\run-20210310_235335-dyxs57fe</code><br/><br/>\n",
       "            "
      ],
      "text/plain": [
       "<IPython.core.display.HTML object>"
      ]
     },
     "metadata": {},
     "output_type": "display_data"
    },
    {
     "data": {
      "text/html": [
       "Finishing last run (ID:dyxs57fe) before initializing another..."
      ],
      "text/plain": [
       "<IPython.core.display.HTML object>"
      ]
     },
     "metadata": {},
     "output_type": "display_data"
    },
    {
     "data": {
      "text/html": [
       "<br/>Waiting for W&B process to finish, PID 19400<br/>Program ended successfully."
      ],
      "text/plain": [
       "<IPython.core.display.HTML object>"
      ]
     },
     "metadata": {},
     "output_type": "display_data"
    },
    {
     "data": {
      "text/html": [
       "Find user logs for this run at: <code>C:\\Users\\rao_a\\PythonCPU\\Deep Learning\\CS6910-Assignments-1\\Assignment1\\Avyay\\wandb\\run-20210310_235335-dyxs57fe\\logs\\debug.log</code>"
      ],
      "text/plain": [
       "<IPython.core.display.HTML object>"
      ]
     },
     "metadata": {},
     "output_type": "display_data"
    },
    {
     "data": {
      "text/html": [
       "Find internal logs for this run at: <code>C:\\Users\\rao_a\\PythonCPU\\Deep Learning\\CS6910-Assignments-1\\Assignment1\\Avyay\\wandb\\run-20210310_235335-dyxs57fe\\logs\\debug-internal.log</code>"
      ],
      "text/plain": [
       "<IPython.core.display.HTML object>"
      ]
     },
     "metadata": {},
     "output_type": "display_data"
    },
    {
     "data": {
      "text/html": [
       "Synced 4 W&B file(s), 0 media file(s), 0 artifact file(s) and 0 other file(s)"
      ],
      "text/plain": [
       "<IPython.core.display.HTML object>"
      ]
     },
     "metadata": {},
     "output_type": "display_data"
    },
    {
     "data": {
      "text/html": [
       "\n",
       "                    <br/>Synced <strong style=\"color:#cdcd00\">floral-sweep-1</strong>: <a href=\"https://wandb.ai/avyay/uncategorized/runs/dyxs57fe\" target=\"_blank\">https://wandb.ai/avyay/uncategorized/runs/dyxs57fe</a><br/>\n",
       "                "
      ],
      "text/plain": [
       "<IPython.core.display.HTML object>"
      ]
     },
     "metadata": {},
     "output_type": "display_data"
    },
    {
     "data": {
      "text/html": [
       "...Successfully finished last run (ID:dyxs57fe). Initializing new run:<br/><br/>"
      ],
      "text/plain": [
       "<IPython.core.display.HTML object>"
      ]
     },
     "metadata": {},
     "output_type": "display_data"
    },
    {
     "name": "stderr",
     "output_type": "stream",
     "text": [
      "wandb: wandb version 0.10.22 is available!  To upgrade, please run:\n",
      "wandb:  $ pip install wandb --upgrade\n"
     ]
    },
    {
     "data": {
      "text/html": [
       "\n",
       "                Tracking run with wandb version 0.10.21<br/>\n",
       "                Syncing run <strong style=\"color:#cdcd00\">floral-sweep-1</strong> to <a href=\"https://wandb.ai\" target=\"_blank\">Weights & Biases</a> <a href=\"https://docs.wandb.com/integrations/jupyter.html\" target=\"_blank\">(Documentation)</a>.<br/>\n",
       "                Project page: <a href=\"https://wandb.ai/avyay/uncategorized\" target=\"_blank\">https://wandb.ai/avyay/uncategorized</a><br/>\n",
       "                Sweep page: <a href=\"https://wandb.ai/avyay/uncategorized/sweeps/mbcm7lra\" target=\"_blank\">https://wandb.ai/avyay/uncategorized/sweeps/mbcm7lra</a><br/>\n",
       "Run page: <a href=\"https://wandb.ai/avyay/uncategorized/runs/dyxs57fe\" target=\"_blank\">https://wandb.ai/avyay/uncategorized/runs/dyxs57fe</a><br/>\n",
       "                Run data is saved locally in <code>C:\\Users\\rao_a\\PythonCPU\\Deep Learning\\CS6910-Assignments-1\\Assignment1\\Avyay\\wandb\\run-20210310_235340-dyxs57fe</code><br/><br/>\n",
       "            "
      ],
      "text/plain": [
       "<IPython.core.display.HTML object>"
      ]
     },
     "metadata": {},
     "output_type": "display_data"
    },
    {
     "name": "stdout",
     "output_type": "stream",
     "text": [
      "Epoch: 1 Train Loss: 0.768298 Train Accuracy: 0.718454 Val Loss: 0.476854 Val Accuracy: 0.828956\n",
      "Epoch: 2 Train Loss: 0.475793 Train Accuracy: 0.828218 Val Loss: 0.437453 Val Accuracy: 0.840758\n",
      "Epoch: 3 Train Loss: 0.425090 Train Accuracy: 0.846508 Val Loss: 0.422563 Val Accuracy: 0.843584\n",
      "Epoch: 4 Train Loss: 0.396270 Train Accuracy: 0.856191 Val Loss: 0.400119 Val Accuracy: 0.851729\n",
      "Epoch: 5 Train Loss: 0.376846 Train Accuracy: 0.863263 Val Loss: 0.380925 Val Accuracy: 0.857879\n",
      "\n",
      "Model trained successfully!\n"
     ]
    },
    {
     "data": {
      "text/html": [
       "<br/>Waiting for W&B process to finish, PID 1040<br/>Program ended successfully."
      ],
      "text/plain": [
       "<IPython.core.display.HTML object>"
      ]
     },
     "metadata": {},
     "output_type": "display_data"
    },
    {
     "data": {
      "text/html": [
       "Find user logs for this run at: <code>C:\\Users\\rao_a\\PythonCPU\\Deep Learning\\CS6910-Assignments-1\\Assignment1\\Avyay\\wandb\\run-20210310_235340-dyxs57fe\\logs\\debug.log</code>"
      ],
      "text/plain": [
       "<IPython.core.display.HTML object>"
      ]
     },
     "metadata": {},
     "output_type": "display_data"
    },
    {
     "data": {
      "text/html": [
       "Find internal logs for this run at: <code>C:\\Users\\rao_a\\PythonCPU\\Deep Learning\\CS6910-Assignments-1\\Assignment1\\Avyay\\wandb\\run-20210310_235340-dyxs57fe\\logs\\debug-internal.log</code>"
      ],
      "text/plain": [
       "<IPython.core.display.HTML object>"
      ]
     },
     "metadata": {},
     "output_type": "display_data"
    },
    {
     "data": {
      "text/html": [
       "<h3>Run summary:</h3><br/><style>\n",
       "    table.wandb td:nth-child(1) { padding: 0 10px; text-align: right }\n",
       "    </style><table class=\"wandb\">\n",
       "<tr><td>epoch</td><td>5</td></tr><tr><td>train_loss</td><td>0.37685</td></tr><tr><td>train_acc</td><td>0.86326</td></tr><tr><td>val_loss</td><td>0.38092</td></tr><tr><td>val_acc</td><td>0.85788</td></tr><tr><td>_runtime</td><td>11</td></tr><tr><td>_timestamp</td><td>1615400638</td></tr><tr><td>_step</td><td>4</td></tr></table>"
      ],
      "text/plain": [
       "<IPython.core.display.HTML object>"
      ]
     },
     "metadata": {},
     "output_type": "display_data"
    },
    {
     "data": {
      "text/html": [
       "<h3>Run history:</h3><br/><style>\n",
       "    table.wandb td:nth-child(1) { padding: 0 10px; text-align: right }\n",
       "    </style><table class=\"wandb\">\n",
       "<tr><td>epoch</td><td>▁▃▅▆█</td></tr><tr><td>train_loss</td><td>█▃▂▁▁</td></tr><tr><td>train_acc</td><td>▁▆▇██</td></tr><tr><td>val_loss</td><td>█▅▄▂▁</td></tr><tr><td>val_acc</td><td>▁▄▅▇█</td></tr><tr><td>_runtime</td><td>▁▃▅▆█</td></tr><tr><td>_timestamp</td><td>▁▃▅▆█</td></tr><tr><td>_step</td><td>▁▃▅▆█</td></tr></table><br/>"
      ],
      "text/plain": [
       "<IPython.core.display.HTML object>"
      ]
     },
     "metadata": {},
     "output_type": "display_data"
    },
    {
     "data": {
      "text/html": [
       "Synced 5 W&B file(s), 0 media file(s), 0 artifact file(s) and 0 other file(s)"
      ],
      "text/plain": [
       "<IPython.core.display.HTML object>"
      ]
     },
     "metadata": {},
     "output_type": "display_data"
    },
    {
     "data": {
      "text/html": [
       "\n",
       "                    <br/>Synced <strong style=\"color:#cdcd00\">floral-sweep-1</strong>: <a href=\"https://wandb.ai/avyay/uncategorized/runs/dyxs57fe\" target=\"_blank\">https://wandb.ai/avyay/uncategorized/runs/dyxs57fe</a><br/>\n",
       "                "
      ],
      "text/plain": [
       "<IPython.core.display.HTML object>"
      ]
     },
     "metadata": {},
     "output_type": "display_data"
    },
    {
     "name": "stderr",
     "output_type": "stream",
     "text": [
      "wandb: Agent Starting Run: ildv3xr9 with config:\n",
      "wandb: \tepochs: 5\n",
      "wandb: \tn_layers: 4\n",
      "wandb: wandb version 0.10.22 is available!  To upgrade, please run:\n",
      "wandb:  $ pip install wandb --upgrade\n"
     ]
    },
    {
     "data": {
      "text/html": [
       "\n",
       "                Tracking run with wandb version 0.10.21<br/>\n",
       "                Syncing run <strong style=\"color:#cdcd00\">glowing-sweep-2</strong> to <a href=\"https://wandb.ai\" target=\"_blank\">Weights & Biases</a> <a href=\"https://docs.wandb.com/integrations/jupyter.html\" target=\"_blank\">(Documentation)</a>.<br/>\n",
       "                Project page: <a href=\"https://wandb.ai/avyay/uncategorized\" target=\"_blank\">https://wandb.ai/avyay/uncategorized</a><br/>\n",
       "                Sweep page: <a href=\"https://wandb.ai/avyay/uncategorized/sweeps/mbcm7lra\" target=\"_blank\">https://wandb.ai/avyay/uncategorized/sweeps/mbcm7lra</a><br/>\n",
       "Run page: <a href=\"https://wandb.ai/avyay/uncategorized/runs/ildv3xr9\" target=\"_blank\">https://wandb.ai/avyay/uncategorized/runs/ildv3xr9</a><br/>\n",
       "                Run data is saved locally in <code>C:\\Users\\rao_a\\PythonCPU\\Deep Learning\\CS6910-Assignments-1\\Assignment1\\Avyay\\wandb\\run-20210310_235402-ildv3xr9</code><br/><br/>\n",
       "            "
      ],
      "text/plain": [
       "<IPython.core.display.HTML object>"
      ]
     },
     "metadata": {},
     "output_type": "display_data"
    },
    {
     "name": "stdout",
     "output_type": "stream",
     "text": [
      "Epoch: 1 Train Loss: 0.789142 Train Accuracy: 0.704421 Val Loss: 0.496390 Val Accuracy: 0.820811\n",
      "Epoch: 2 Train Loss: 0.471024 Train Accuracy: 0.829254 Val Loss: 0.461163 Val Accuracy: 0.827793\n",
      "Epoch: 3 Train Loss: 0.419552 Train Accuracy: 0.846897 Val Loss: 0.440672 Val Accuracy: 0.836436\n",
      "Epoch: 4 Train Loss: 0.390579 Train Accuracy: 0.857394 Val Loss: 0.440443 Val Accuracy: 0.839096\n",
      "Epoch: 5 Train Loss: 0.369489 Train Accuracy: 0.865392 Val Loss: 0.421357 Val Accuracy: 0.846742\n",
      "\n",
      "Model trained successfully!\n"
     ]
    },
    {
     "data": {
      "text/html": [
       "<br/>Waiting for W&B process to finish, PID 8600<br/>Program ended successfully."
      ],
      "text/plain": [
       "<IPython.core.display.HTML object>"
      ]
     },
     "metadata": {},
     "output_type": "display_data"
    },
    {
     "data": {
      "text/html": [
       "Find user logs for this run at: <code>C:\\Users\\rao_a\\PythonCPU\\Deep Learning\\CS6910-Assignments-1\\Assignment1\\Avyay\\wandb\\run-20210310_235402-ildv3xr9\\logs\\debug.log</code>"
      ],
      "text/plain": [
       "<IPython.core.display.HTML object>"
      ]
     },
     "metadata": {},
     "output_type": "display_data"
    },
    {
     "data": {
      "text/html": [
       "Find internal logs for this run at: <code>C:\\Users\\rao_a\\PythonCPU\\Deep Learning\\CS6910-Assignments-1\\Assignment1\\Avyay\\wandb\\run-20210310_235402-ildv3xr9\\logs\\debug-internal.log</code>"
      ],
      "text/plain": [
       "<IPython.core.display.HTML object>"
      ]
     },
     "metadata": {},
     "output_type": "display_data"
    },
    {
     "data": {
      "text/html": [
       "<h3>Run summary:</h3><br/><style>\n",
       "    table.wandb td:nth-child(1) { padding: 0 10px; text-align: right }\n",
       "    </style><table class=\"wandb\">\n",
       "<tr><td>epoch</td><td>5</td></tr><tr><td>train_loss</td><td>0.36949</td></tr><tr><td>train_acc</td><td>0.86539</td></tr><tr><td>val_loss</td><td>0.42136</td></tr><tr><td>val_acc</td><td>0.84674</td></tr><tr><td>_runtime</td><td>11</td></tr><tr><td>_timestamp</td><td>1615400654</td></tr><tr><td>_step</td><td>4</td></tr></table>"
      ],
      "text/plain": [
       "<IPython.core.display.HTML object>"
      ]
     },
     "metadata": {},
     "output_type": "display_data"
    },
    {
     "data": {
      "text/html": [
       "<h3>Run history:</h3><br/><style>\n",
       "    table.wandb td:nth-child(1) { padding: 0 10px; text-align: right }\n",
       "    </style><table class=\"wandb\">\n",
       "<tr><td>epoch</td><td>▁▃▅▆█</td></tr><tr><td>train_loss</td><td>█▃▂▁▁</td></tr><tr><td>train_acc</td><td>▁▆▇██</td></tr><tr><td>val_loss</td><td>█▅▃▃▁</td></tr><tr><td>val_acc</td><td>▁▃▅▆█</td></tr><tr><td>_runtime</td><td>▁▃▅▆█</td></tr><tr><td>_timestamp</td><td>▁▃▅▆█</td></tr><tr><td>_step</td><td>▁▃▅▆█</td></tr></table><br/>"
      ],
      "text/plain": [
       "<IPython.core.display.HTML object>"
      ]
     },
     "metadata": {},
     "output_type": "display_data"
    },
    {
     "data": {
      "text/html": [
       "Synced 5 W&B file(s), 0 media file(s), 0 artifact file(s) and 0 other file(s)"
      ],
      "text/plain": [
       "<IPython.core.display.HTML object>"
      ]
     },
     "metadata": {},
     "output_type": "display_data"
    },
    {
     "data": {
      "text/html": [
       "\n",
       "                    <br/>Synced <strong style=\"color:#cdcd00\">glowing-sweep-2</strong>: <a href=\"https://wandb.ai/avyay/uncategorized/runs/ildv3xr9\" target=\"_blank\">https://wandb.ai/avyay/uncategorized/runs/ildv3xr9</a><br/>\n",
       "                "
      ],
      "text/plain": [
       "<IPython.core.display.HTML object>"
      ]
     },
     "metadata": {},
     "output_type": "display_data"
    },
    {
     "name": "stderr",
     "output_type": "stream",
     "text": [
      "wandb: Agent Starting Run: 7siuvidx with config:\n",
      "wandb: \tepochs: 5\n",
      "wandb: \tn_layers: 5\n",
      "wandb: wandb version 0.10.22 is available!  To upgrade, please run:\n",
      "wandb:  $ pip install wandb --upgrade\n"
     ]
    },
    {
     "data": {
      "text/html": [
       "\n",
       "                Tracking run with wandb version 0.10.21<br/>\n",
       "                Syncing run <strong style=\"color:#cdcd00\">unique-sweep-3</strong> to <a href=\"https://wandb.ai\" target=\"_blank\">Weights & Biases</a> <a href=\"https://docs.wandb.com/integrations/jupyter.html\" target=\"_blank\">(Documentation)</a>.<br/>\n",
       "                Project page: <a href=\"https://wandb.ai/avyay/uncategorized\" target=\"_blank\">https://wandb.ai/avyay/uncategorized</a><br/>\n",
       "                Sweep page: <a href=\"https://wandb.ai/avyay/uncategorized/sweeps/mbcm7lra\" target=\"_blank\">https://wandb.ai/avyay/uncategorized/sweeps/mbcm7lra</a><br/>\n",
       "Run page: <a href=\"https://wandb.ai/avyay/uncategorized/runs/7siuvidx\" target=\"_blank\">https://wandb.ai/avyay/uncategorized/runs/7siuvidx</a><br/>\n",
       "                Run data is saved locally in <code>C:\\Users\\rao_a\\PythonCPU\\Deep Learning\\CS6910-Assignments-1\\Assignment1\\Avyay\\wandb\\run-20210310_235421-7siuvidx</code><br/><br/>\n",
       "            "
      ],
      "text/plain": [
       "<IPython.core.display.HTML object>"
      ]
     },
     "metadata": {},
     "output_type": "display_data"
    },
    {
     "name": "stdout",
     "output_type": "stream",
     "text": [
      "Epoch: 1 Train Loss: 0.911214 Train Accuracy: 0.656194 Val Loss: 0.535093 Val Accuracy: 0.814827\n",
      "Epoch: 2 Train Loss: 0.499350 Train Accuracy: 0.817110 Val Loss: 0.469705 Val Accuracy: 0.828956\n",
      "Epoch: 3 Train Loss: 0.438464 Train Accuracy: 0.840121 Val Loss: 0.452654 Val Accuracy: 0.839096\n",
      "Epoch: 4 Train Loss: 0.405475 Train Accuracy: 0.852229 Val Loss: 0.429550 Val Accuracy: 0.845080\n",
      "Epoch: 5 Train Loss: 0.383424 Train Accuracy: 0.859782 Val Loss: 0.443397 Val Accuracy: 0.837267\n",
      "\n",
      "Model trained successfully!\n"
     ]
    },
    {
     "data": {
      "text/html": [
       "<br/>Waiting for W&B process to finish, PID 4648<br/>Program ended successfully."
      ],
      "text/plain": [
       "<IPython.core.display.HTML object>"
      ]
     },
     "metadata": {},
     "output_type": "display_data"
    },
    {
     "data": {
      "text/html": [
       "Find user logs for this run at: <code>C:\\Users\\rao_a\\PythonCPU\\Deep Learning\\CS6910-Assignments-1\\Assignment1\\Avyay\\wandb\\run-20210310_235421-7siuvidx\\logs\\debug.log</code>"
      ],
      "text/plain": [
       "<IPython.core.display.HTML object>"
      ]
     },
     "metadata": {},
     "output_type": "display_data"
    },
    {
     "data": {
      "text/html": [
       "Find internal logs for this run at: <code>C:\\Users\\rao_a\\PythonCPU\\Deep Learning\\CS6910-Assignments-1\\Assignment1\\Avyay\\wandb\\run-20210310_235421-7siuvidx\\logs\\debug-internal.log</code>"
      ],
      "text/plain": [
       "<IPython.core.display.HTML object>"
      ]
     },
     "metadata": {},
     "output_type": "display_data"
    },
    {
     "data": {
      "text/html": [
       "<h3>Run summary:</h3><br/><style>\n",
       "    table.wandb td:nth-child(1) { padding: 0 10px; text-align: right }\n",
       "    </style><table class=\"wandb\">\n",
       "<tr><td>epoch</td><td>5</td></tr><tr><td>train_loss</td><td>0.38342</td></tr><tr><td>train_acc</td><td>0.85978</td></tr><tr><td>val_loss</td><td>0.4434</td></tr><tr><td>val_acc</td><td>0.83727</td></tr><tr><td>_runtime</td><td>11</td></tr><tr><td>_timestamp</td><td>1615400672</td></tr><tr><td>_step</td><td>4</td></tr></table>"
      ],
      "text/plain": [
       "<IPython.core.display.HTML object>"
      ]
     },
     "metadata": {},
     "output_type": "display_data"
    },
    {
     "data": {
      "text/html": [
       "<h3>Run history:</h3><br/><style>\n",
       "    table.wandb td:nth-child(1) { padding: 0 10px; text-align: right }\n",
       "    </style><table class=\"wandb\">\n",
       "<tr><td>epoch</td><td>▁▃▅▆█</td></tr><tr><td>train_loss</td><td>█▃▂▁▁</td></tr><tr><td>train_acc</td><td>▁▇▇██</td></tr><tr><td>val_loss</td><td>█▄▃▁▂</td></tr><tr><td>val_acc</td><td>▁▄▇█▆</td></tr><tr><td>_runtime</td><td>▁▂▅▇█</td></tr><tr><td>_timestamp</td><td>▁▂▅▇█</td></tr><tr><td>_step</td><td>▁▃▅▆█</td></tr></table><br/>"
      ],
      "text/plain": [
       "<IPython.core.display.HTML object>"
      ]
     },
     "metadata": {},
     "output_type": "display_data"
    },
    {
     "data": {
      "text/html": [
       "Synced 5 W&B file(s), 0 media file(s), 0 artifact file(s) and 0 other file(s)"
      ],
      "text/plain": [
       "<IPython.core.display.HTML object>"
      ]
     },
     "metadata": {},
     "output_type": "display_data"
    },
    {
     "data": {
      "text/html": [
       "\n",
       "                    <br/>Synced <strong style=\"color:#cdcd00\">unique-sweep-3</strong>: <a href=\"https://wandb.ai/avyay/uncategorized/runs/7siuvidx\" target=\"_blank\">https://wandb.ai/avyay/uncategorized/runs/7siuvidx</a><br/>\n",
       "                "
      ],
      "text/plain": [
       "<IPython.core.display.HTML object>"
      ]
     },
     "metadata": {},
     "output_type": "display_data"
    },
    {
     "name": "stderr",
     "output_type": "stream",
     "text": [
      "wandb: Agent Starting Run: kh9syt6m with config:\n",
      "wandb: \tepochs: 10\n",
      "wandb: \tn_layers: 3\n",
      "wandb: wandb version 0.10.22 is available!  To upgrade, please run:\n",
      "wandb:  $ pip install wandb --upgrade\n"
     ]
    },
    {
     "data": {
      "text/html": [
       "\n",
       "                Tracking run with wandb version 0.10.21<br/>\n",
       "                Syncing run <strong style=\"color:#cdcd00\">crisp-sweep-4</strong> to <a href=\"https://wandb.ai\" target=\"_blank\">Weights & Biases</a> <a href=\"https://docs.wandb.com/integrations/jupyter.html\" target=\"_blank\">(Documentation)</a>.<br/>\n",
       "                Project page: <a href=\"https://wandb.ai/avyay/uncategorized\" target=\"_blank\">https://wandb.ai/avyay/uncategorized</a><br/>\n",
       "                Sweep page: <a href=\"https://wandb.ai/avyay/uncategorized/sweeps/mbcm7lra\" target=\"_blank\">https://wandb.ai/avyay/uncategorized/sweeps/mbcm7lra</a><br/>\n",
       "Run page: <a href=\"https://wandb.ai/avyay/uncategorized/runs/kh9syt6m\" target=\"_blank\">https://wandb.ai/avyay/uncategorized/runs/kh9syt6m</a><br/>\n",
       "                Run data is saved locally in <code>C:\\Users\\rao_a\\PythonCPU\\Deep Learning\\CS6910-Assignments-1\\Assignment1\\Avyay\\wandb\\run-20210310_235436-kh9syt6m</code><br/><br/>\n",
       "            "
      ],
      "text/plain": [
       "<IPython.core.display.HTML object>"
      ]
     },
     "metadata": {},
     "output_type": "display_data"
    },
    {
     "name": "stdout",
     "output_type": "stream",
     "text": [
      "Epoch: 1 Train Loss: 0.738137 Train Accuracy: 0.729376 Val Loss: 0.494812 Val Accuracy: 0.829953\n",
      "Epoch: 2 Train Loss: 0.471747 Train Accuracy: 0.829069 Val Loss: 0.438561 Val Accuracy: 0.845911\n",
      "Epoch: 3 Train Loss: 0.419354 Train Accuracy: 0.846397 Val Loss: 0.411195 Val Accuracy: 0.852227\n",
      "Epoch: 4 Train Loss: 0.390480 Train Accuracy: 0.857468 Val Loss: 0.402800 Val Accuracy: 0.851396\n",
      "Epoch: 5 Train Loss: 0.371355 Train Accuracy: 0.865114 Val Loss: 0.398703 Val Accuracy: 0.855053\n",
      "Epoch: 6 Train Loss: 0.356766 Train Accuracy: 0.868835 Val Loss: 0.395170 Val Accuracy: 0.859541\n",
      "Epoch: 7 Train Loss: 0.345045 Train Accuracy: 0.872556 Val Loss: 0.388275 Val Accuracy: 0.865525\n",
      "Epoch: 8 Train Loss: 0.335030 Train Accuracy: 0.876518 Val Loss: 0.379982 Val Accuracy: 0.864860\n",
      "Epoch: 9 Train Loss: 0.326469 Train Accuracy: 0.878536 Val Loss: 0.376264 Val Accuracy: 0.868684\n",
      "Epoch: 10 Train Loss: 0.318246 Train Accuracy: 0.882812 Val Loss: 0.381000 Val Accuracy: 0.868351\n",
      "\n",
      "Model trained successfully!\n"
     ]
    },
    {
     "data": {
      "text/html": [
       "<br/>Waiting for W&B process to finish, PID 14536<br/>Program ended successfully."
      ],
      "text/plain": [
       "<IPython.core.display.HTML object>"
      ]
     },
     "metadata": {},
     "output_type": "display_data"
    },
    {
     "data": {
      "text/html": [
       "Find user logs for this run at: <code>C:\\Users\\rao_a\\PythonCPU\\Deep Learning\\CS6910-Assignments-1\\Assignment1\\Avyay\\wandb\\run-20210310_235436-kh9syt6m\\logs\\debug.log</code>"
      ],
      "text/plain": [
       "<IPython.core.display.HTML object>"
      ]
     },
     "metadata": {},
     "output_type": "display_data"
    },
    {
     "data": {
      "text/html": [
       "Find internal logs for this run at: <code>C:\\Users\\rao_a\\PythonCPU\\Deep Learning\\CS6910-Assignments-1\\Assignment1\\Avyay\\wandb\\run-20210310_235436-kh9syt6m\\logs\\debug-internal.log</code>"
      ],
      "text/plain": [
       "<IPython.core.display.HTML object>"
      ]
     },
     "metadata": {},
     "output_type": "display_data"
    },
    {
     "data": {
      "text/html": [
       "<h3>Run summary:</h3><br/><style>\n",
       "    table.wandb td:nth-child(1) { padding: 0 10px; text-align: right }\n",
       "    </style><table class=\"wandb\">\n",
       "<tr><td>epoch</td><td>10</td></tr><tr><td>train_loss</td><td>0.31825</td></tr><tr><td>train_acc</td><td>0.88281</td></tr><tr><td>val_loss</td><td>0.381</td></tr><tr><td>val_acc</td><td>0.86835</td></tr><tr><td>_runtime</td><td>18</td></tr><tr><td>_timestamp</td><td>1615400694</td></tr><tr><td>_step</td><td>9</td></tr></table>"
      ],
      "text/plain": [
       "<IPython.core.display.HTML object>"
      ]
     },
     "metadata": {},
     "output_type": "display_data"
    },
    {
     "data": {
      "text/html": [
       "<h3>Run history:</h3><br/><style>\n",
       "    table.wandb td:nth-child(1) { padding: 0 10px; text-align: right }\n",
       "    </style><table class=\"wandb\">\n",
       "<tr><td>epoch</td><td>▁▂▃▃▄▅▆▆▇█</td></tr><tr><td>train_loss</td><td>█▄▃▂▂▂▁▁▁▁</td></tr><tr><td>train_acc</td><td>▁▆▆▇▇▇████</td></tr><tr><td>val_loss</td><td>█▅▃▃▂▂▂▁▁▁</td></tr><tr><td>val_acc</td><td>▁▄▅▅▆▆▇▇██</td></tr><tr><td>_runtime</td><td>▁▂▂▃▄▅▆▇▇█</td></tr><tr><td>_timestamp</td><td>▁▂▂▃▄▅▆▇▇█</td></tr><tr><td>_step</td><td>▁▂▃▃▄▅▆▆▇█</td></tr></table><br/>"
      ],
      "text/plain": [
       "<IPython.core.display.HTML object>"
      ]
     },
     "metadata": {},
     "output_type": "display_data"
    },
    {
     "data": {
      "text/html": [
       "Synced 5 W&B file(s), 0 media file(s), 0 artifact file(s) and 0 other file(s)"
      ],
      "text/plain": [
       "<IPython.core.display.HTML object>"
      ]
     },
     "metadata": {},
     "output_type": "display_data"
    },
    {
     "data": {
      "text/html": [
       "\n",
       "                    <br/>Synced <strong style=\"color:#cdcd00\">crisp-sweep-4</strong>: <a href=\"https://wandb.ai/avyay/uncategorized/runs/kh9syt6m\" target=\"_blank\">https://wandb.ai/avyay/uncategorized/runs/kh9syt6m</a><br/>\n",
       "                "
      ],
      "text/plain": [
       "<IPython.core.display.HTML object>"
      ]
     },
     "metadata": {},
     "output_type": "display_data"
    },
    {
     "name": "stderr",
     "output_type": "stream",
     "text": [
      "wandb: Agent Starting Run: jb863zkb with config:\n",
      "wandb: \tepochs: 10\n",
      "wandb: \tn_layers: 4\n",
      "wandb: wandb version 0.10.22 is available!  To upgrade, please run:\n",
      "wandb:  $ pip install wandb --upgrade\n"
     ]
    },
    {
     "data": {
      "text/html": [
       "\n",
       "                Tracking run with wandb version 0.10.21<br/>\n",
       "                Syncing run <strong style=\"color:#cdcd00\">rose-sweep-5</strong> to <a href=\"https://wandb.ai\" target=\"_blank\">Weights & Biases</a> <a href=\"https://docs.wandb.com/integrations/jupyter.html\" target=\"_blank\">(Documentation)</a>.<br/>\n",
       "                Project page: <a href=\"https://wandb.ai/avyay/uncategorized\" target=\"_blank\">https://wandb.ai/avyay/uncategorized</a><br/>\n",
       "                Sweep page: <a href=\"https://wandb.ai/avyay/uncategorized/sweeps/mbcm7lra\" target=\"_blank\">https://wandb.ai/avyay/uncategorized/sweeps/mbcm7lra</a><br/>\n",
       "Run page: <a href=\"https://wandb.ai/avyay/uncategorized/runs/jb863zkb\" target=\"_blank\">https://wandb.ai/avyay/uncategorized/runs/jb863zkb</a><br/>\n",
       "                Run data is saved locally in <code>C:\\Users\\rao_a\\PythonCPU\\Deep Learning\\CS6910-Assignments-1\\Assignment1\\Avyay\\wandb\\run-20210310_235459-jb863zkb</code><br/><br/>\n",
       "            "
      ],
      "text/plain": [
       "<IPython.core.display.HTML object>"
      ]
     },
     "metadata": {},
     "output_type": "display_data"
    },
    {
     "name": "stdout",
     "output_type": "stream",
     "text": [
      "Epoch: 1 Train Loss: 0.770448 Train Accuracy: 0.716473 Val Loss: 0.481271 Val Accuracy: 0.826795\n",
      "Epoch: 2 Train Loss: 0.484792 Train Accuracy: 0.822997 Val Loss: 0.463583 Val Accuracy: 0.827460\n",
      "Epoch: 3 Train Loss: 0.432991 Train Accuracy: 0.841973 Val Loss: 0.443556 Val Accuracy: 0.834608\n",
      "Epoch: 4 Train Loss: 0.403062 Train Accuracy: 0.852340 Val Loss: 0.415214 Val Accuracy: 0.845745\n",
      "Epoch: 5 Train Loss: 0.382534 Train Accuracy: 0.859893 Val Loss: 0.404023 Val Accuracy: 0.848737\n",
      "Epoch: 6 Train Loss: 0.366540 Train Accuracy: 0.866354 Val Loss: 0.405202 Val Accuracy: 0.851230\n",
      "Epoch: 7 Train Loss: 0.353609 Train Accuracy: 0.870964 Val Loss: 0.412931 Val Accuracy: 0.848737\n",
      "Epoch: 8 Train Loss: 0.342999 Train Accuracy: 0.875222 Val Loss: 0.396952 Val Accuracy: 0.852726\n",
      "Epoch: 9 Train Loss: 0.334706 Train Accuracy: 0.877185 Val Loss: 0.391934 Val Accuracy: 0.853059\n",
      "Epoch: 10 Train Loss: 0.325863 Train Accuracy: 0.880906 Val Loss: 0.378297 Val Accuracy: 0.860372\n",
      "\n",
      "Model trained successfully!\n"
     ]
    },
    {
     "data": {
      "text/html": [
       "<br/>Waiting for W&B process to finish, PID 17052<br/>Program ended successfully."
      ],
      "text/plain": [
       "<IPython.core.display.HTML object>"
      ]
     },
     "metadata": {},
     "output_type": "display_data"
    },
    {
     "data": {
      "text/html": [
       "Find user logs for this run at: <code>C:\\Users\\rao_a\\PythonCPU\\Deep Learning\\CS6910-Assignments-1\\Assignment1\\Avyay\\wandb\\run-20210310_235459-jb863zkb\\logs\\debug.log</code>"
      ],
      "text/plain": [
       "<IPython.core.display.HTML object>"
      ]
     },
     "metadata": {},
     "output_type": "display_data"
    },
    {
     "data": {
      "text/html": [
       "Find internal logs for this run at: <code>C:\\Users\\rao_a\\PythonCPU\\Deep Learning\\CS6910-Assignments-1\\Assignment1\\Avyay\\wandb\\run-20210310_235459-jb863zkb\\logs\\debug-internal.log</code>"
      ],
      "text/plain": [
       "<IPython.core.display.HTML object>"
      ]
     },
     "metadata": {},
     "output_type": "display_data"
    },
    {
     "data": {
      "text/html": [
       "<h3>Run summary:</h3><br/><style>\n",
       "    table.wandb td:nth-child(1) { padding: 0 10px; text-align: right }\n",
       "    </style><table class=\"wandb\">\n",
       "<tr><td>epoch</td><td>10</td></tr><tr><td>train_loss</td><td>0.32586</td></tr><tr><td>train_acc</td><td>0.88091</td></tr><tr><td>val_loss</td><td>0.3783</td></tr><tr><td>val_acc</td><td>0.86037</td></tr><tr><td>_runtime</td><td>17</td></tr><tr><td>_timestamp</td><td>1615400716</td></tr><tr><td>_step</td><td>9</td></tr></table>"
      ],
      "text/plain": [
       "<IPython.core.display.HTML object>"
      ]
     },
     "metadata": {},
     "output_type": "display_data"
    },
    {
     "data": {
      "text/html": [
       "<h3>Run history:</h3><br/><style>\n",
       "    table.wandb td:nth-child(1) { padding: 0 10px; text-align: right }\n",
       "    </style><table class=\"wandb\">\n",
       "<tr><td>epoch</td><td>▁▂▃▃▄▅▆▆▇█</td></tr><tr><td>train_loss</td><td>█▄▃▂▂▂▁▁▁▁</td></tr><tr><td>train_acc</td><td>▁▆▆▇▇▇████</td></tr><tr><td>val_loss</td><td>█▇▅▄▃▃▃▂▂▁</td></tr><tr><td>val_acc</td><td>▁▁▃▅▆▆▆▆▆█</td></tr><tr><td>_runtime</td><td>▁▂▂▃▄▅▆▇▇█</td></tr><tr><td>_timestamp</td><td>▁▂▂▃▄▅▆▇▇█</td></tr><tr><td>_step</td><td>▁▂▃▃▄▅▆▆▇█</td></tr></table><br/>"
      ],
      "text/plain": [
       "<IPython.core.display.HTML object>"
      ]
     },
     "metadata": {},
     "output_type": "display_data"
    },
    {
     "data": {
      "text/html": [
       "Synced 5 W&B file(s), 0 media file(s), 0 artifact file(s) and 0 other file(s)"
      ],
      "text/plain": [
       "<IPython.core.display.HTML object>"
      ]
     },
     "metadata": {},
     "output_type": "display_data"
    },
    {
     "data": {
      "text/html": [
       "\n",
       "                    <br/>Synced <strong style=\"color:#cdcd00\">rose-sweep-5</strong>: <a href=\"https://wandb.ai/avyay/uncategorized/runs/jb863zkb\" target=\"_blank\">https://wandb.ai/avyay/uncategorized/runs/jb863zkb</a><br/>\n",
       "                "
      ],
      "text/plain": [
       "<IPython.core.display.HTML object>"
      ]
     },
     "metadata": {},
     "output_type": "display_data"
    },
    {
     "name": "stderr",
     "output_type": "stream",
     "text": [
      "wandb: Agent Starting Run: 2y8ju2so with config:\n",
      "wandb: \tepochs: 10\n",
      "wandb: \tn_layers: 5\n",
      "wandb: wandb version 0.10.22 is available!  To upgrade, please run:\n",
      "wandb:  $ pip install wandb --upgrade\n"
     ]
    },
    {
     "data": {
      "text/html": [
       "\n",
       "                Tracking run with wandb version 0.10.21<br/>\n",
       "                Syncing run <strong style=\"color:#cdcd00\">confused-sweep-6</strong> to <a href=\"https://wandb.ai\" target=\"_blank\">Weights & Biases</a> <a href=\"https://docs.wandb.com/integrations/jupyter.html\" target=\"_blank\">(Documentation)</a>.<br/>\n",
       "                Project page: <a href=\"https://wandb.ai/avyay/uncategorized\" target=\"_blank\">https://wandb.ai/avyay/uncategorized</a><br/>\n",
       "                Sweep page: <a href=\"https://wandb.ai/avyay/uncategorized/sweeps/mbcm7lra\" target=\"_blank\">https://wandb.ai/avyay/uncategorized/sweeps/mbcm7lra</a><br/>\n",
       "Run page: <a href=\"https://wandb.ai/avyay/uncategorized/runs/2y8ju2so\" target=\"_blank\">https://wandb.ai/avyay/uncategorized/runs/2y8ju2so</a><br/>\n",
       "                Run data is saved locally in <code>C:\\Users\\rao_a\\PythonCPU\\Deep Learning\\CS6910-Assignments-1\\Assignment1\\Avyay\\wandb\\run-20210310_235520-2y8ju2so</code><br/><br/>\n",
       "            "
      ],
      "text/plain": [
       "<IPython.core.display.HTML object>"
      ]
     },
     "metadata": {},
     "output_type": "display_data"
    },
    {
     "name": "stdout",
     "output_type": "stream",
     "text": [
      "Epoch: 1 Train Loss: 0.810174 Train Accuracy: 0.698811 Val Loss: 0.503416 Val Accuracy: 0.822972\n",
      "Epoch: 2 Train Loss: 0.490076 Train Accuracy: 0.820572 Val Loss: 0.455052 Val Accuracy: 0.835771\n",
      "Epoch: 3 Train Loss: 0.432547 Train Accuracy: 0.840640 Val Loss: 0.404811 Val Accuracy: 0.856715\n",
      "Epoch: 4 Train Loss: 0.400104 Train Accuracy: 0.852507 Val Loss: 0.393717 Val Accuracy: 0.859707\n",
      "Epoch: 5 Train Loss: 0.379116 Train Accuracy: 0.860467 Val Loss: 0.383087 Val Accuracy: 0.863032\n",
      "Epoch: 6 Train Loss: 0.361949 Train Accuracy: 0.866669 Val Loss: 0.389227 Val Accuracy: 0.861702\n",
      "Epoch: 7 Train Loss: 0.349031 Train Accuracy: 0.870835 Val Loss: 0.382188 Val Accuracy: 0.865858\n",
      "Epoch: 8 Train Loss: 0.337438 Train Accuracy: 0.875555 Val Loss: 0.386462 Val Accuracy: 0.864195\n",
      "Epoch: 9 Train Loss: 0.329140 Train Accuracy: 0.878332 Val Loss: 0.385880 Val Accuracy: 0.866689\n",
      "Epoch: 10 Train Loss: 0.320581 Train Accuracy: 0.881720 Val Loss: 0.370321 Val Accuracy: 0.868850\n",
      "\n",
      "Model trained successfully!\n"
     ]
    },
    {
     "data": {
      "text/html": [
       "<br/>Waiting for W&B process to finish, PID 13260<br/>Program ended successfully."
      ],
      "text/plain": [
       "<IPython.core.display.HTML object>"
      ]
     },
     "metadata": {},
     "output_type": "display_data"
    },
    {
     "data": {
      "text/html": [
       "Find user logs for this run at: <code>C:\\Users\\rao_a\\PythonCPU\\Deep Learning\\CS6910-Assignments-1\\Assignment1\\Avyay\\wandb\\run-20210310_235520-2y8ju2so\\logs\\debug.log</code>"
      ],
      "text/plain": [
       "<IPython.core.display.HTML object>"
      ]
     },
     "metadata": {},
     "output_type": "display_data"
    },
    {
     "data": {
      "text/html": [
       "Find internal logs for this run at: <code>C:\\Users\\rao_a\\PythonCPU\\Deep Learning\\CS6910-Assignments-1\\Assignment1\\Avyay\\wandb\\run-20210310_235520-2y8ju2so\\logs\\debug-internal.log</code>"
      ],
      "text/plain": [
       "<IPython.core.display.HTML object>"
      ]
     },
     "metadata": {},
     "output_type": "display_data"
    },
    {
     "data": {
      "text/html": [
       "<h3>Run summary:</h3><br/><style>\n",
       "    table.wandb td:nth-child(1) { padding: 0 10px; text-align: right }\n",
       "    </style><table class=\"wandb\">\n",
       "<tr><td>epoch</td><td>10</td></tr><tr><td>train_loss</td><td>0.32058</td></tr><tr><td>train_acc</td><td>0.88172</td></tr><tr><td>val_loss</td><td>0.37032</td></tr><tr><td>val_acc</td><td>0.86885</td></tr><tr><td>_runtime</td><td>17</td></tr><tr><td>_timestamp</td><td>1615400738</td></tr><tr><td>_step</td><td>9</td></tr></table>"
      ],
      "text/plain": [
       "<IPython.core.display.HTML object>"
      ]
     },
     "metadata": {},
     "output_type": "display_data"
    },
    {
     "data": {
      "text/html": [
       "<h3>Run history:</h3><br/><style>\n",
       "    table.wandb td:nth-child(1) { padding: 0 10px; text-align: right }\n",
       "    </style><table class=\"wandb\">\n",
       "<tr><td>epoch</td><td>▁▂▃▃▄▅▆▆▇█</td></tr><tr><td>train_loss</td><td>█▃▃▂▂▂▁▁▁▁</td></tr><tr><td>train_acc</td><td>▁▆▆▇▇▇████</td></tr><tr><td>val_loss</td><td>█▅▃▂▂▂▂▂▂▁</td></tr><tr><td>val_acc</td><td>▁▃▆▇▇▇█▇██</td></tr><tr><td>_runtime</td><td>▁▂▂▃▄▅▅▆▇█</td></tr><tr><td>_timestamp</td><td>▁▂▂▃▄▅▅▆▇█</td></tr><tr><td>_step</td><td>▁▂▃▃▄▅▆▆▇█</td></tr></table><br/>"
      ],
      "text/plain": [
       "<IPython.core.display.HTML object>"
      ]
     },
     "metadata": {},
     "output_type": "display_data"
    },
    {
     "data": {
      "text/html": [
       "Synced 5 W&B file(s), 0 media file(s), 0 artifact file(s) and 0 other file(s)"
      ],
      "text/plain": [
       "<IPython.core.display.HTML object>"
      ]
     },
     "metadata": {},
     "output_type": "display_data"
    },
    {
     "data": {
      "text/html": [
       "\n",
       "                    <br/>Synced <strong style=\"color:#cdcd00\">confused-sweep-6</strong>: <a href=\"https://wandb.ai/avyay/uncategorized/runs/2y8ju2so\" target=\"_blank\">https://wandb.ai/avyay/uncategorized/runs/2y8ju2so</a><br/>\n",
       "                "
      ],
      "text/plain": [
       "<IPython.core.display.HTML object>"
      ]
     },
     "metadata": {},
     "output_type": "display_data"
    },
    {
     "name": "stderr",
     "output_type": "stream",
     "text": [
      "wandb: Sweep Agent: Waiting for job.\n",
      "wandb: Sweep Agent: Exiting.\n"
     ]
    }
   ],
   "source": [
    "wandb.agent(sweep_id, function=train)"
   ]
  },
  {
   "cell_type": "code",
   "execution_count": null,
   "metadata": {},
   "outputs": [],
   "source": []
  }
 ],
 "metadata": {
  "kernelspec": {
   "display_name": "Python 3",
   "language": "python",
   "name": "python3"
  },
  "language_info": {
   "codemirror_mode": {
    "name": "ipython",
    "version": 3
   },
   "file_extension": ".py",
   "mimetype": "text/x-python",
   "name": "python",
   "nbconvert_exporter": "python",
   "pygments_lexer": "ipython3",
   "version": "3.8.8"
  }
 },
 "nbformat": 4,
 "nbformat_minor": 2
}
