{
 "cells": [
  {
   "cell_type": "code",
   "execution_count": null,
   "metadata": {},
   "outputs": [],
   "source": [
    "<p style=\"font-size:20px; text-align:center\">Assignment 1</p>\n",
    "<p style=\"font-size:18px; text-align:center\">CS6910: Fundamentals of Deep Learning</p>\n",
    "<p>Sujay Bokil: ME17B120<br>\n",
    "Avyay Rao: ME17B130</p>"
   ]
  },
  {
   "cell_type": "code",
   "execution_count": 7,
   "metadata": {},
   "outputs": [],
   "source": [
    "# import necessary libraries\r\n",
    "from copy import deepcopy\r\n",
    "import numpy as np \r\n",
    "import matplotlib.pyplot as plt\r\n",
    "from sklearn.model_selection import train_test_split\r\n",
    "import tensorflow as tf\r\n",
    "\r\n",
    "# import templates that we have created to make different kinds of layers, losses, optimizers etc.\r\n",
    "from sujay.templates import AutoDiffFunction, Layer, Loss, Optimizer"
   ]
  },
  {
   "cell_type": "code",
   "execution_count": null,
   "metadata": {},
   "outputs": [],
   "source": [
    "# Outline of the Framework"
   ]
  },
  {
   "cell_type": "markdown",
   "metadata": {},
   "source": [
    "## Template Classes"
   ]
  },
  {
   "cell_type": "code",
   "execution_count": 15,
   "metadata": {},
   "outputs": [],
   "source": [
    "\"\"\"\n",
    "Module to create template classes for Autodifferentiable losses/activations/layers\n",
    "\"\"\"\n",
    "\n",
    "class AutoDiffFunction():\n",
    "    \"\"\"Format for any function in general which has to be auto-differentiable\n",
    "    \"\"\"\n",
    "\n",
    "    def __init__(self, *args, **kwds) -> None:\n",
    "        self.saved_for_backward = {}\n",
    "        self.grad = {}\n",
    "\n",
    "    def __call__(self, *args, **kwds):\n",
    "\n",
    "        output = self.forward(*args, **kwds)\n",
    "        self.grad = self.compute_grad(*args, **kwds)\n",
    "        return output\n",
    "\n",
    "    def forward(self, *args, **kwds):\n",
    "        pass\n",
    "\n",
    "    def compute_grad(self, *args, **kwds):\n",
    "        pass\n",
    "\n",
    "    def backward(self, *args, **kwds):\n",
    "        pass\n",
    "\n",
    "\n",
    "class Layer(AutoDiffFunction):\n",
    "    \"\"\"Format to create your own custom layer for the model\n",
    "    \"\"\"\n",
    "    def __init__(self, *args, **kwds) -> None:\n",
    "        super().__init__(*args, **kwds)\n",
    "\n",
    "        self.weights = {}\n",
    "        self.optimizer = None\n",
    "\n",
    "    def initialize_weights(self, *args, **kwds):\n",
    "        pass\n",
    "\n",
    "    def update_weights(self):\n",
    "\n",
    "        self.optimizer.step(self)\n",
    "\n",
    "\n",
    "class Loss(AutoDiffFunction):\n",
    "    \"\"\"Format to create a custom loss function\n",
    "    \"\"\"\n",
    "\n",
    "    def forward(self, y_true, y_pred):\n",
    "        pass \n",
    "\n",
    "    def backward(self):\n",
    "        return self.grad[\"x\"]\n",
    "\n",
    "    def compute_grad(self, y_true, y_pred):\n",
    "        pass\n",
    "\n",
    "\n",
    "class Optimizer():\n",
    "    \"\"\"Format to create a custom optimizer\n",
    "    \"\"\"\n",
    "    def __init__(self, *args, **kwds):\n",
    "        self.remember = {}\n",
    "        pass\n",
    "\n",
    "    def add_params(self, *args, **kwds):\n",
    "        pass\n",
    "\n",
    "    def step(self, layer):\n",
    "        pass    "
   ]
  },
  {
   "cell_type": "code",
   "execution_count": null,
   "metadata": {},
   "outputs": [],
   "source": [
    "## Activation Functions\n",
    "\n",
    "For this assignment we implement the following activation functions:\n",
    "\n",
    "1. Sigmoid activation\n",
    "\n",
    "$$y = \\sigma(x) = \\frac{1}{1 + e^{-x}}$$\n",
    "\n",
    "$$\\frac{dy}{dx} = \\frac{-e^{-x}}{(1 + e^{-x})^2} = \\sigma(x)(1 - \\sigma(x))$$\n",
    "\n",
    "2. ReLU activation\n",
    "\n",
    "$$y = ReLU(x) = max(0, x)$$\n",
    "\n",
    "$$ \\frac{dy}{dx} = \\left\\{\n",
    "\\begin{array}{ll}\n",
    "      1 & x\\geq 0\\\\\n",
    "      0 & x\\leq 0 \\\\\n",
    "\\end{array} \n",
    "\\right.$$\n",
    "\n",
    "3. Tanh activation\n",
    "$$y = tanh(x) = \\frac{e^x - e^{-x}}{e^x + e^{-x}}$$\n",
    "$$\\frac{dy}{dx} = \\frac{4}{(e^x + e^{-x})^2} = 1 - (tanh(x))^2$$"
   ]
  },
  {
   "cell_type": "code",
   "execution_count": 16,
   "id": "interested-stick",
   "metadata": {},
   "outputs": [],
   "source": [
    "class Sigmoid(AutoDiffFunction):\n",
    "    \"\"\" \n",
    "    Represents the Sigmoid Activation function\n",
    "    \"\"\"\n",
    "    def __init__(self) -> None:\n",
    "        super().__init__()\n",
    "\n",
    "    def forward(self, x):\n",
    "        self.saved_for_backward = 1/(1 + np.exp(-x))\n",
    "        return self.saved_for_backward\n",
    "\n",
    "    def compute_grad(self, x):\n",
    "        y = self.saved_for_backward\n",
    "\n",
    "        return {\"x\": y*(1-y)}\n",
    "\n",
    "    def backward(self, dy):\n",
    "        return dy * self.grad[\"x\"]      \n",
    "\n",
    "\n",
    "class RelU(AutoDiffFunction):\n",
    "    \"\"\" \n",
    "    Represents the RelU Activation function\n",
    "    \"\"\"\n",
    "    def __init__(self) -> None:\n",
    "        super().__init__()\n",
    "\n",
    "    def forward(self, x):\n",
    "        self.saved_for_backward = np.where(x>0.0, 1.0, 0.0)\n",
    "\n",
    "        return x * self.saved_for_backward\n",
    "\n",
    "    def compute_grad(self, x):\n",
    "        return {\"x\": self.saved_for_backward}\n",
    "\n",
    "    def backward(self, dy):\n",
    "        return dy * self.grad[\"x\"]\n",
    "    \n",
    "class Tanh(AutoDiffFunction):\n",
    "    \"\"\" \n",
    "    Represents the Tanh Activation function\n",
    "    \"\"\"\n",
    "    def __init__(self) -> None:\n",
    "        super().__init__()\n",
    "\n",
    "    def forward(self, x):\n",
    "        self.saved_for_backward = (np.exp(x) - np.exp(-x)) / (np.exp(x) + np.exp(-x))\n",
    "\n",
    "        return self.saved_for_backward\n",
    "\n",
    "    def compute_grad(self, x):\n",
    "        y = self.saved_for_backward\n",
    "\n",
    "        return {\"x\": 1 - y**2}\n",
    "\n",
    "    def backward(self, dy):\n",
    "        return dy * self.grad[\"x\"]\n",
    "    \n",
    "class Softmax(AutoDiffFunction):\n",
    "    def __init__(self) -> None:\n",
    "        super().__init__()\n",
    "\n",
    "    def forward(self, x):\n",
    "        v = np.exp(x)\n",
    "        self.saved_for_backward = v\n",
    "\n",
    "        return v / np.sum(v, axis=1, keepdims=True)\n",
    "\n",
    "    def compute_grad(self, x):\n",
    "        pass\n",
    "\n",
    "    def backward(self, dy):\n",
    "        return dy * self.grad[\"x\"]"
   ]
  },
  {
   "cell_type": "code",
   "execution_count": null,
   "metadata": {},
   "outputs": [],
   "source": [
    "## Layers\n",
    "\n",
    "For this assignment, we only use fully connected OR Dense layers where each input neuron is connected to each output neuron, along with a bias unit. Below is a representation of a fully connected layer.\n",
    "\n",
    "![Representation of a fully connected layer](FullyConnectedLayer.png)\n",
    "\n",
    "The equation for such a layer is simply\n",
    "\n",
    "$$y = FullyConnected(x) = wx + b$$\n",
    "\n",
    "$$\\frac{dy}{dw} = x^T \\quad\\frac{dy}{dx} = w^T  \\quad\\frac{dy}{db} = 1$$"
   ]
  },
  {
   "cell_type": "code",
   "execution_count": 17,
   "id": "announced-outline",
   "metadata": {},
   "outputs": [],
   "source": [
    "class FC(Layer):\n",
    "    def __init__(self, in_dim, out_dim, weight_decay=None, init_method=\"random\") -> None:\n",
    "        super().__init__()\n",
    "        self.weight_decay = weight_decay\n",
    "        self.init_method = init_method\n",
    "        self.initialize_weights(in_dim, out_dim)\n",
    "\n",
    "    def initialize_weights(self, in_dim, out_dim):\n",
    "        \n",
    "        if self.init_method == \"random\":\n",
    "            scaling_factor = 1/np.sqrt(in_dim)\n",
    "            self.weights[\"w\"] = np.random.randn(in_dim, out_dim) * scaling_factor\n",
    "            self.weights[\"b\"] = np.random.randn(1, out_dim) * scaling_factor\n",
    "        elif self.init_method == \"xavier\":\n",
    "            lim = np.sqrt(6 / (in_dim + out_dim))\n",
    "            self.weights[\"w\"] = np.random.uniform(low=-lim, high=lim, size=(in_dim, out_dim))\n",
    "            self.weights[\"b\"] = np.random.uniform(low=-lim, high=lim, size=(1, out_dim))\n",
    "\n",
    "    def compute_grad(self, x):\n",
    "        \n",
    "        gradients = {}\n",
    "\n",
    "        # y = x * w + b        \n",
    "        # we compute gradients wrt w and x \n",
    "        # gradient wrt b is not required explicitly since we know that it's value is 1\n",
    "        gradients[\"w\"] = self.saved_for_backward[\"x\"].T\n",
    "        gradients[\"x\"] = self.weights[\"w\"].T\n",
    "\n",
    "        return gradients\n",
    "\n",
    "\n",
    "    def forward(self, x):\n",
    "        output = x @ self.weights[\"w\"] + self.weights[\"b\"]\n",
    "        self.saved_for_backward[\"x\"] = x\n",
    "        \n",
    "        return output\n",
    "\n",
    "    def backward(self, dy):\n",
    "        \n",
    "        # calculating gradients wrt input to pass on to previous layer for backprop\n",
    "        dx = dy @ self.grad[\"x\"]\n",
    "        \n",
    "        # calculating gradients wrt weights\n",
    "        dw = self.grad[\"w\"] @ dy\n",
    "        db = np.sum(dy, axis=0, keepdims=True)\n",
    "\n",
    "        # accomodating for weight_decay / regularization\n",
    "        if self.weight_decay:\n",
    "            dw = dw + 2 * self.weight_decay * self.weights[\"w\"]\n",
    "            db = db + 2 * self.weight_decay * self.weights[\"b\"]\n",
    "\n",
    "        self.absolute_gradients = {\"w\": dw, \"b\": db}\n",
    "\n",
    "        return dx\n",
    "\n",
    "    def update_weights(self):\n",
    "        self.optimizer.step(self)"
   ]
  },
  {
   "cell_type": "code",
   "execution_count": null,
   "metadata": {},
   "outputs": [],
   "source": [
    "## Loss Functions\n",
    "\n",
    "The loss function dictates how good the output of the neural network is. Since we use MNIST dataset, our job is classification and hence we use the Categorical CrossEntropy loss function. We also have created the Mean Squared Error loss function to check how it performs for a classification task for which it's not meant. \n",
    "\n",
    "#### 1) CrossEntropy Loss\n",
    "\n",
    "$$L(p, y) = \\Sigma_{i=1}^{N} \\Sigma_{k=1}^{K} y_{ik} \\log p_{ik}$$ \n",
    "\n",
    "where $$y_{ik} = \\left\\{\n",
    "\\begin{array}{ll}\n",
    "      1 & x \\in class-k\\\\\n",
    "      0 & else \\\\\n",
    "\\end{array} \n",
    "\\right.$$\n",
    "\n",
    "$p_{ik} =$ probability that $i^{th}$ sample falls in $k^{th}$ class\n",
    "\n",
    "In our implementation, the given loss function is applied along with the activation function for the last layer i.e. Softmax activation. It's formula is given by the following equation\n",
    "\n",
    "$ f: [x_1, x_2, ... x_k] \\rightarrow [p_1, p_2, ... p_k]$ such that $p_i = \\frac{e^{x_i}}{\\Sigma_{k=1}^{K} e^{x_i}}$\n",
    "\n",
    "Now, to find the derivative of loss w.r.t input we have apply the chain rule. Let $p(x)$ represent the softmax activation and $L$ represent the loss. Then the expression turns out to be:\n",
    "\n",
    "$$\\frac{\\partial L}{\\partial x} = \\frac{\\partial L(p, y)}{\\partial p} \\frac{\\partial p(x)}{\\partial x} = p - y$$\n",
    "\n",
    "#### 2) Mean Squared Loss OR L2 Loss\n",
    "\n",
    "$$L(p, y) = \\frac{1}{2b}\\Sigma_{i=1}^{b} \\Sigma_{k=1}^{K} (p_{ik} - y_{ik})^2$$\n",
    "\n",
    "where $$y_{ik} = \\left\\{\n",
    "\\begin{array}{ll}\n",
    "      1 & x \\in class-k\\\\\n",
    "      0 & else \\\\\n",
    "\\end{array} \n",
    "\\right.$$\n",
    "\n",
    "$p_{ik} =$ probability that $i^{th}$ sample falls in $k^{th}$ class\n",
    "\n",
    "As above, the MSE loss is applied along with Softmax activation on the last layer. The combined derivative of MSE loss and softmax is given by:\n",
    "\n",
    "$$\\frac{\\partial L}{\\partial a_i^{(L)}} = \\frac{\\partial L(p, y)}{\\partial p} \\frac{\\partial p(a_i^{(L)})}{\\partial a_i^{(L)}} = \\Sigma_{j=1}^{K} p_j(p_j - y_j)[\\delta_{ij} - p_i]$$\n",
    "\n",
    "where $$\\delta_{ij} = \\left\\{\n",
    "\\begin{array}{ll}\n",
    "      1 & i=j\\\\\n",
    "      0 & else \\\\\n",
    "\\end{array} \n",
    "\\right.$$\n",
    "\n",
    "As can be seen from the expression, unlike for Cross Entropy loss the expression cannot be vectorised and individual components have to be separately calculated."
   ]
  },
  {
   "cell_type": "code",
   "execution_count": 18,
   "id": "coupled-karen",
   "metadata": {},
   "outputs": [],
   "source": [
    "class CrossEntropyLossFromLogits(Loss):\n",
    "    def __init__(self) -> None:\n",
    "        super().__init__()\n",
    "        self.n_classes = None\n",
    "\n",
    "    @staticmethod\n",
    "    def softmax(x):\n",
    "        v = np.exp(x)\n",
    "        return v / np.sum(v, axis=1, keepdims=True)\n",
    "\n",
    "    def encode(self, y): \n",
    "        encoded_y = np.zeros(shape=(len(y), self.n_classes))\n",
    "\n",
    "        for i in range(len(y)):\n",
    "            encoded_y[i,y[i]] = 1\n",
    "\n",
    "        return encoded_y\n",
    "\n",
    "    def forward(self, y_pred, y_true):\n",
    "         \n",
    "        probabilities = self.softmax(y_pred)\n",
    "        y_true_encoded = self.encode(y_true)\n",
    "\n",
    "        loss_value = np.mean(np.sum(- y_true_encoded * np.log(probabilities), axis=1))\n",
    "\n",
    "        self.saved_for_backward[\"probabilities\"] = probabilities\n",
    "        self.saved_for_backward[\"y_true\"] = y_true_encoded\n",
    "\n",
    "        return loss_value\n",
    "\n",
    "    def compute_grad(self, y_pred, y_true):\n",
    "\n",
    "        return {\"x\": self.saved_for_backward[\"probabilities\"] - self.saved_for_backward[\"y_true\"]}        \n",
    "\n",
    "\n",
    "class MSELossFromLogits(Loss):\n",
    "    def __init__(self) -> None:\n",
    "        super().__init__()\n",
    "        self.n_classes = None\n",
    "\n",
    "    @staticmethod\n",
    "    def softmax(x):\n",
    "        v = np.exp(x)\n",
    "\n",
    "        return v / np.sum(v, axis=1, keepdims=True)\n",
    "\n",
    "    def encode(self, y): \n",
    "        encoded_y = np.zeros(shape=(len(y), self.n_classes))\n",
    "\n",
    "        for i in range(len(y)):\n",
    "            encoded_y[i,y[i]] = 1\n",
    "\n",
    "        return encoded_y\n",
    "    \n",
    "    @staticmethod\n",
    "    def indicator(i, j):\n",
    "        ind = {True: 1, False: 0}\n",
    "        return ind[i==j]\n",
    "\n",
    "    def forward(self, y_pred, y_true):\n",
    "         \n",
    "        probabilities = self.softmax(y_pred)\n",
    "        y_true_encoded = self.encode(y_true)\n",
    "\n",
    "        loss_value = np.mean(np.sum((probabilities - y_true_encoded)**2, axis=1))\n",
    "\n",
    "        self.saved_for_backward[\"probabilities\"] = probabilities\n",
    "        self.saved_for_backward[\"y_true\"] = y_true_encoded\n",
    "\n",
    "        return loss_value\n",
    "\n",
    "    def compute_grad(self, y_pred, y_true):\n",
    "\n",
    "        probs = self.saved_for_backward[\"probabilities\"]\n",
    "        labels = self.saved_for_backward[\"y_true\"]\n",
    "        grad = np.zeros(shape=(len(y_true), self.n_classes))\n",
    "        \n",
    "        for point_counter in range(len(y_true)):\n",
    "            res = 0\n",
    "            for i in range(self.n_classes):\n",
    "                for j in range(self.n_classes):\n",
    "                    \n",
    "                    res = probs[point_counter, j] * (probs[point_counter, j] - labels[point_counter, j]) * (self.indicator(i,j) - probs[point_counter, i])\n",
    "                \n",
    "                grad[point_counter, i] = res\n",
    "        \n",
    "        return {\"x\": grad}"
   ]
  },
  {
   "cell_type": "code",
   "execution_count": null,
   "metadata": {},
   "outputs": [],
   "source": [
    "## Optimizers\n",
    "\n",
    "Optimizers basically denote how to make use of the gradients achieved through backpropogation to update the weights of the model. Based on the question, we have created the following 6 optimizers.\n",
    "\n",
    "1) sgd<br>\n",
    "2) momentum based gradient descent<br>\n",
    "3) nesterov accelerated gradient descent<br>\n",
    "4) rmsprop<br>\n",
    "5) adam<br>\n",
    "6) nadam<br>\n",
    "\n",
    "All the default parameter values are taken from keras optimizers."
   ]
  },
  {
   "cell_type": "code",
   "execution_count": 19,
   "id": "pleasant-knowing",
   "metadata": {},
   "outputs": [],
   "source": [
    "# 1. SGD OPTIMIZER\n",
    "class SGD(Optimizer):\n",
    "    def __init__(self, lr=1e-2):\n",
    "        super().__init__()\n",
    "        self.lr = lr\n",
    "\n",
    "    def step(self, layer):\n",
    "\n",
    "        for weight_name, _ in layer.weights.items():\n",
    "            layer.weights[weight_name] = layer.weights[weight_name] - self.lr * layer.absolute_gradients[weight_name]\n",
    "            \n",
    "class Momentum(Optimizer):\n",
    "    def __init__(self, lr=1e-3, gamma=0.9):\n",
    "        super().__init__()\n",
    "        self.lr = lr\n",
    "        self.gamma = gamma\n",
    "        \n",
    "    def step(self, layer):\n",
    "        \n",
    "        #Initialise update history\n",
    "        if self.remember == {}:\n",
    "            for weight_name, weight in layer.weights.items():\n",
    "                self.remember[weight_name] = {}\n",
    "                self.remember[weight_name][\"v\"] = np.zeros_like(weight)\n",
    "        \n",
    "        #Momentum update rule\n",
    "        for weight_name, weight in layer.weights.items():\n",
    "            self.remember[weight_name][\"v\"] = self.gamma * self.remember[weight_name][\"v\"] + \\\n",
    "                                                self.lr * layer.absolute_gradients[weight_name]\n",
    "            layer.weights[weight_name] = layer.weights[weight_name] - self.remember[weight_name][\"v\"]\n",
    "\n",
    "class NAG(Optimizer):\n",
    "    def __init__(self, lr=1e-3, gamma=0.9) -> None:\n",
    "        super().__init__()\n",
    "        self.lr = lr\n",
    "        self.gamma = gamma \n",
    "\n",
    "    def step(self, layer):\n",
    "\n",
    "# 2. MOMENTUM OPTIMIZER\n",
    "class Momentum(Optimizer):\n",
    "    def __init__(self, lr=1e-3, gamma=0.9):\n",
    "        super().__init__()\n",
    "        self.lr = lr\n",
    "        self.gamma = gamma\n",
    "        \n",
    "    def step(self, layer):\n",
    "        \n",
    "        #Initialise update history\n",
    "        if self.remember == {}:\n",
    "            for weight_name, weight in layer.weights.items():\n",
    "                self.remember[weight_name] = {}\n",
    "                self.remember[weight_name][\"v\"] = np.zeros_like(weight)\n",
    "        \n",
    "        #Momentum update rule\n",
    "        for weight_name, weight in layer.weights.items():\n",
    "            self.remember[weight_name][\"v\"] = self.gamma * self.remember[weight_name][\"v\"] + \\\n",
    "                                                self.lr * layer.absolute_gradients[weight_name]\n",
    "            layer.weights[weight_name] = layer.weights[weight_name] - self.remember[weight_name][\"v\"]\n",
    "\n",
    "            \n",
    "# 3. NESTEROV ACCELARATED GRADIENT OPTIMIZER\n",
    "class NAG(Optimizer):\n",
    "    def __init__(self, lr=1e-3, gamma=0.9):\n",
    "        super().__init__()\n",
    "        self.lr = lr\n",
    "        self.gamma = gamma \n",
    "\n",
    "    def step(self, layer):\n",
    "\n",
    "        if self.remember == {}:\n",
    "            for weight_name, weight in layer.weights.items():\n",
    "                self.remember[weight_name] = {}\n",
    "                self.remember[weight_name][\"v\"] = np.zeros_like(weight)\n",
    "\n",
    "        for weight_name, weight in layer.weights.items():\n",
    "            layer.weights[weight_name] = layer.weights[weight_name] + (self.gamma**2) * self.remember[weight_name][\"v\"] - \\\n",
    "                                            (1 + self.gamma) * self.lr * layer.absolute_gradients[weight_name]\n",
    "\n",
    "            self.remember[weight_name][\"v\"] = self.remember[weight_name][\"v\"] * self.gamma - \\\n",
    "                                                self.lr * layer.absolute_gradients[weight_name]\n",
    "\n",
    "# 4. RMSPROP OPTIMIZER\n",
    "class RMSprop(Optimizer):\n",
    "    def __init__(self, lr=1e-3, beta=0.9, epsilon=1e-7):\n",
    "        super().__init__()\n",
    "        self.lr = lr\n",
    "        self.beta = beta\n",
    "        self.epsilon = epsilon\n",
    "        \n",
    "    def step(self, layer):\n",
    "        \n",
    "        #Initialise update history\n",
    "        if self.remember == {}:\n",
    "            for weight_name, weight in layer.weights.items():\n",
    "                self.remember[weight_name] = {}\n",
    "                self.remember[weight_name][\"v\"] = np.zeros_like(weight)\n",
    "        \n",
    "        #RMSprop update rule\n",
    "        for weight_name, weight in layer.weights.items():\n",
    "            self.remember[weight_name][\"v\"] = self.beta * self.remember[weight_name][\"v\"] + \\\n",
    "                                                (1 - self.beta) * (layer.absolute_gradients[weight_name] ** 2)\n",
    "            layer.weights[weight_name] = layer.weights[weight_name] - (self.lr / (np.sqrt(self.remember[weight_name][\"v\"] + \\\n",
    "                                                self.epsilon))) * layer.weights[weight_name]\n",
    "\n",
    "            \n",
    "# 5. ADAM OPTIMIZER\n",
    "class Adam(Optimizer):\n",
    "    def __init__(self, lr=1e-3, beta_1=0.9, beta_2=0.999, epsilon=1e-7):\n",
    "        super().__init__()\n",
    "        self.lr = lr\n",
    "        self.beta_1 = beta_1\n",
    "        self.beta_2 = beta_2\n",
    "        self.epsilon = epsilon\n",
    "        self.t = 1\n",
    "        \n",
    "    def step(self, layer):\n",
    "        \n",
    "        #Initialise update history\n",
    "        if self.remember == {}:\n",
    "            for weight_name, weight in layer.weights.items():\n",
    "                self.remember[weight_name] = {}\n",
    "                self.remember[weight_name][\"v\"] = np.zeros_like(weight)\n",
    "                self.remember[weight_name][\"m\"] = np.zeros_like(weight)\n",
    "        \n",
    "        #Adam update rule\n",
    "        for weight_name, weight in layer.weights.items():\n",
    "            \n",
    "            #Update m_t and v_t\n",
    "            self.remember[weight_name][\"m\"] = self.beta_1 * self.remember[weight_name][\"m\"] + \\\n",
    "                                                (1 -self.beta_1) * layer.absolute_gradients[weight_name]\n",
    "            \n",
    "            self.remember[weight_name][\"v\"] = self.beta_2 * self.remember[weight_name][\"v\"] + \\\n",
    "                                                (1 - self.beta_2) * (layer.absolute_gradients[weight_name]**2)\n",
    "            \n",
    "            #Bias correction\n",
    "            m_hat = self.remember[weight_name][\"m\"]/(1 - self.beta_1 ** self.t)\n",
    "            v_hat = self.remember[weight_name][\"v\"]/(1 - self.beta_2 ** self.t)\n",
    "            \n",
    "            #Update parameters\n",
    "            layer.weights[weight_name] = layer.weights[weight_name] - (self.lr / (np.sqrt(v_hat + self.epsilon))) * m_hat\n",
    "            \n",
    "        self.t += 1\n",
    "            \n",
    "            \n",
    "# 6. NADAM OPTIMIZER            \n",
    "class Nadam(Optimizer):\n",
    "    def __init__(self, lr=0.002, beta_1=0.9, beta_2=0.999, epsilon=1e-7):\n",
    "        super().__init__()\n",
    "        self.lr = lr\n",
    "        self.beta_1 = beta_1\n",
    "        self.beta_2 = beta_2\n",
    "        self.epsilon = epsilon\n",
    "        self.t = 1\n",
    "\n",
    "    def step(self, layer):\n",
    "        \n",
    "        # we have 2 parameters to remember m(t) and v(t) for all weights in the layer\n",
    "        if self.remember == {}:\n",
    "            for weight_name, weight in layer.weights.items():\n",
    "                self.remember[weight_name] = {}\n",
    "                self.remember[weight_name][\"v\"] = np.zeros_like(weight)\n",
    "                self.remember[weight_name][\"m\"] = np.zeros_like(weight)\n",
    "\n",
    "        for weight_name, weight in layer.weights.items():\n",
    "            \n",
    "            self.remember[weight_name][\"m\"] = self.beta_1 * self.remember[weight_name][\"m\"] + \\\n",
    "                                                (1 -self.beta_1) * layer.absolute_gradients[weight_name]\n",
    "\n",
    "            self.remember[weight_name][\"v\"] = self.beta_2 * self.remember[weight_name][\"v\"] + \\\n",
    "                                                (1 - self.beta_2) * layer.absolute_gradients[weight_name]**2\n",
    "\n",
    "            # bias correction step \n",
    "            m_hat = self.remember[weight_name][\"m\"]/(1 - self.beta_1 ** self.t)\n",
    "            v_hat = self.remember[weight_name][\"v\"]/(1 - self.beta_2 ** self.t)\n",
    "\n",
    "            d = self.lr / (np.sqrt(v_hat) + self.epsilon) * (self.beta_1*m_hat + (1-self.beta_1)/\n",
    "                                                (1-self.beta_1 ** self.t) * layer.absolute_gradients[weight_name]) \n",
    "\n",
    "            layer.weights[weight_name] = layer.weights[weight_name] - d\n",
    "\n",
    "        self.t += 1"
   ]
  },
  {
   "cell_type": "code",
   "execution_count": null,
   "metadata": {},
   "outputs": [],
   "source": [
    "## Framework for the Neural Network"
   ]
  },
  {
   "cell_type": "code",
   "execution_count": 20,
   "id": "enclosed-preserve",
   "metadata": {},
   "outputs": [],
   "source": [
    "class NeuralNet():\n",
    "    def __init__(self, layers) -> None:\n",
    "        self.layers = layers\n",
    "        self.history = []\n",
    "\n",
    "    def __call__(self, *args, **kwds):\n",
    "        return self.forward(*args, **kwds)\n",
    "\n",
    "    def compile(self, loss, optimizer):\n",
    "        self.loss = loss\n",
    "\n",
    "        for layer in self.layers:\n",
    "            if isinstance(layer, Layer):\n",
    "                layer.optimizer = deepcopy(optimizer)\n",
    "\n",
    "    def calculate_loss(self, y_pred, y_true):\n",
    "        return self.loss(y_pred, y_true)\n",
    "\n",
    "    def forward(self, x):\n",
    "        for layer in self.layers:\n",
    "            x = layer(x)\n",
    "\n",
    "        return x\n",
    "\n",
    "    def backward(self):\n",
    "\n",
    "        gradient = self.loss.backward()\n",
    "        for layer in reversed(self.layers):\n",
    "            gradient = layer.backward(gradient)\n",
    "\n",
    "        return gradient\n",
    "\n",
    "    def update_weights(self):\n",
    "\n",
    "        for layer in reversed(self.layers):\n",
    "            if isinstance(layer, Layer):\n",
    "                layer.update_weights()\n",
    "\n",
    "    @staticmethod\n",
    "    def accuracy_score(y_pred, y_true):\n",
    "\n",
    "        pred_labels = np.argmax(y_pred, axis=1)\n",
    "        return np.sum(pred_labels == y_true) / len(y_true)\n",
    "\n",
    "    @staticmethod\n",
    "    def create_batches(X, y, batch_size=32):\n",
    "        batches = []\n",
    "\n",
    "        for i in range(len(y) // batch_size):\n",
    "            start_idx = batch_size * i\n",
    "            end_idx = batch_size * (i + 1)\n",
    "\n",
    "            batches.append([X[start_idx: end_idx], y[start_idx: end_idx]])\n",
    "\n",
    "        # take care of the last batch which might have batch_size less than the specified one\n",
    "        if len(y) % batch_size != 0:\n",
    "            batches.append([X[end_idx:], y[end_idx:]])\n",
    "\n",
    "        return batches\n",
    "\n",
    "    def fit(self, X_train, y_train, X_val, y_val, batch_size=32, epochs=10):\n",
    "\n",
    "        # calculate number of classes to pass to the loss function\n",
    "        self.loss.n_classes = len(np.unique(y_train))\n",
    "\n",
    "        train_batches = self.create_batches(X_train, y_train, batch_size=batch_size)\n",
    "        val_batches = self.create_batches(X_val, y_val, batch_size=batch_size)\n",
    "\n",
    "        num_train_batches = len(train_batches)\n",
    "        num_val_batches = len(val_batches)\n",
    "\n",
    "        for epoch in range(1, epochs+1):\n",
    "\n",
    "            total_train_loss = 0\n",
    "            total_train_accuracy = 0\n",
    "\n",
    "            ## TRAINING ##\n",
    "            for X, y in train_batches:\n",
    "\n",
    "                preds = self(X)\n",
    "                total_train_loss += self.loss(preds, y)\n",
    "                total_train_accuracy += self.accuracy_score(preds, y)\n",
    "\n",
    "                _ = self.backward()\n",
    "                self.update_weights()\n",
    "\n",
    "            train_loss_per_epoch = total_train_loss / num_train_batches\n",
    "            train_accuracy = total_train_accuracy / num_train_batches\n",
    "\n",
    "            total_val_loss = 0\n",
    "            total_val_accuracy = 0\n",
    "\n",
    "            ## VALIDATION ##\n",
    "            for X_v, y_v in val_batches:\n",
    "                val_preds = self(X_v)\n",
    "                total_val_loss += self.loss(val_preds, y_v)\n",
    "                total_val_accuracy += self.accuracy_score(val_preds, y_v)\n",
    "            \n",
    "            val_loss_per_epoch = total_val_loss / num_val_batches\n",
    "            val_accuracy = total_val_accuracy / num_val_batches\n",
    "            \n",
    "            print(f\"Epoch: {epoch} Train Loss: {train_loss_per_epoch} Train Accuracy: {train_accuracy} Val Loss: {val_loss_per_epoch} Val Accuracy: {val_accuracy}\")\n",
    "\n",
    "            self.history.append({\"Epoch\" : epoch, \n",
    "                                    \"Train Loss\": train_loss_per_epoch,\n",
    "                                    \"Train Accuracy\": train_accuracy,\n",
    "                                    \"Val Loss\": val_loss_per_epoch,\n",
    "                                    \"Val Accuracy\": val_accuracy})\n",
    "            \n",
    "            wandb.log({\"epoch\" : epoch, \n",
    "                        \"train_loss\": train_loss_per_epoch,\n",
    "                        \"train_acc\": train_accuracy,\n",
    "                        \"val_loss\": val_loss_per_epoch,\n",
    "                        \"val_acc\": val_accuracy})\n",
    "\n",
    "        print(\"\\nModel trained successfully!\")"
   ]
  },
  {
   "cell_type": "markdown",
   "metadata": {},
   "source": [
    "# Modularizing the Network Architecture"
   ]
  },
  {
   "cell_type": "code",
   "execution_count": 21,
   "metadata": {},
   "outputs": [],
   "source": [
    "def get_activation(name):\n",
    "    if name == \"relu\":\n",
    "        return RelU()\n",
    "    elif name == \"tanh\":\n",
    "        return Tanh()\n",
    "    elif name == \"sigmoid\":\n",
    "        return Sigmoid()\n",
    "\n",
    "def get_optimizer(name, lr):\n",
    "    if name == \"sgd\":\n",
    "        return SGD(lr=lr)\n",
    "    elif name == \"momentum\":\n",
    "        return Momentum(lr=lr)\n",
    "    elif name == \"rmsprop\":\n",
    "        return RMSprop(lr=lr)\n",
    "    elif name == \"adam\":\n",
    "        return Adam(lr=lr)\n",
    "    elif name == \"nadam\":\n",
    "        return Nadam(lr=lr)\n",
    "\n",
    "def create_layers(n_layers, layer_size, activation, weight_decay, init_method):\n",
    "\n",
    "    layers = []\n",
    "    layers.extend([FC(784,layer_size, weight_decay, init_method), get_activation(activation)])\n",
    "    \n",
    "    for _ in range(n_layers):\n",
    "        layers.extend([FC(layer_size, layer_size, weight_decay, init_method), get_activation(activation)])\n",
    "    \n",
    "    layers.append(FC(layer_size, 10, weight_decay, init_method))\n",
    "\n",
    "    return layers\n",
    "\n",
    "#Function used for WandB sweep\n",
    "def train():\n",
    "\n",
    "    config_defaults = {\n",
    "        'n_layers': 3,\n",
    "        'layer_size': 32,\n",
    "        'weight_decay': 0,\n",
    "        'lr': 1e-3,\n",
    "        'optimizer': 'sgd',\n",
    "        'batch_size': 32,\n",
    "        'init_method': 'random',\n",
    "        'activation': 'relu',\n",
    "        'epochs': 5\n",
    "    }\n",
    "\n",
    "    wandb.init(config=config_defaults, magic=True)\n",
    "\n",
    "    fashion_mnist = tf.keras.datasets.fashion_mnist\n",
    "    (train_images, train_labels), (test_images, test_labels) = fashion_mnist.load_data()\n",
    "    class_names = ['T-shirt/top', 'Trouser', 'Pullover', 'Dress', 'Coat',\n",
    "                    'Sandal', 'Shirt', 'Sneaker', 'Bag', 'Ankle boot']\n",
    "\n",
    "    train_images = flatten(train_images / 255.0)\n",
    "    test_images = flatten(test_images / 255.0)   \n",
    "\n",
    "    train_images, val_images, train_labels, val_labels = train_test_split(train_images, train_labels, test_size=0.1, shuffle=True)\n",
    "\n",
    "    model = NeuralNet(create_layers(wandb.config.n_layers, \n",
    "                                    wandb.config.layer_size, \n",
    "                                    wandb.config.activation, \n",
    "                                    wandb.config.weight_decay,\n",
    "                                    wandb.config.init_method))\n",
    "\n",
    "    \n",
    "    model.compile(loss=CrossEntropyLossFromLogits(), optimizer=get_optimizer(wandb.config.optimizer, wandb.config.lr))\n",
    "    \n",
    "    model.fit(train_images, train_labels, val_images, val_labels, batch_size=wandb.config.batch_size, epochs=wandb.config.epochs)"
   ]
  },
  {
   "cell_type": "markdown",
   "metadata": {},
   "source": [
    "# Testing on Fashion MNIST Dataset"
   ]
  },
  {
   "cell_type": "code",
   "execution_count": 22,
   "metadata": {},
   "outputs": [
    {
     "name": "stdout",
     "output_type": "stream",
     "text": [
      "Train samples: 60000 Test samples: 10000\n"
     ]
    }
   ],
   "source": [
    "fashion_mnist = tf.keras.datasets.fashion_mnist\n",
    "(train_images, train_labels), (test_images, test_labels) = fashion_mnist.load_data()\n",
    "class_names = ['T-shirt/top', 'Trouser', 'Pullover', 'Dress', 'Coat',\n",
    "                   'Sandal', 'Shirt', 'Sneaker', 'Bag', 'Ankle boot']\n",
    "\n",
    "train_images = train_images / 255.0\n",
    "test_images = test_images / 255.0\n",
    "\n",
    "print(f\"Train samples: {train_images.shape[0]} Test samples: {test_images.shape[0]}\")"
   ]
  },
  {
   "cell_type": "code",
   "execution_count": 23,
   "metadata": {},
   "outputs": [
    {
     "data": {
      "image/png": "[encoded data removed]",
      "text/plain": [
       "<Figure size 1080x432 with 10 Axes>"
      ]
     },
     "metadata": {},
     "output_type": "display_data"
    }
   ],
   "source": [
    "# Utility functions\n",
    "\n",
    "def flatten(arr):\n",
    "    arr = arr.reshape(arr.shape[0], -1)\n",
    "    return arr\n",
    "\n",
    "def plot_labels(data, labels, flatten=False):\n",
    "\n",
    "    class_names = ['T-shirt/top', 'Trouser', 'Pullover', 'Dress', 'Coat',\n",
    "                   'Sandal', 'Shirt', 'Sneaker', 'Bag', 'Ankle boot']\n",
    "    uniq_labels = np.unique(labels)\n",
    "\n",
    "    fig, ax = plt.subplots(2,5, figsize=(15, 6))\n",
    "    fig.subplots_adjust(wspace=0.3, hspace=0.3)\n",
    "    ax = ax.reshape(-1)\n",
    "\n",
    "    for i, label in enumerate(uniq_labels):\n",
    "\n",
    "        img = data[np.where(labels == label)[0][0]]\n",
    "\n",
    "        ax[i].set_title(class_names[label])\n",
    "        \n",
    "        if flatten:\n",
    "            img = img.reshape(28, 28)\n",
    "\n",
    "        ax[i].imshow(img)\n",
    "    \n",
    "    plt.show()\n",
    "\n",
    "plot_labels(train_images, train_labels)"
   ]
  },
  {
   "cell_type": "code",
   "execution_count": 24,
   "metadata": {},
   "outputs": [
    {
     "data": {
      "text/plain": [
       "((54000,), (6000,))"
      ]
     },
     "execution_count": 24,
     "metadata": {},
     "output_type": "execute_result"
    }
   ],
   "source": [
    "train_images = flatten(train_images)\n",
    "test_images = flatten(test_images)\n",
    "\n",
    "train_images, val_images, train_labels, val_labels = train_test_split(train_images, train_labels, test_size=0.1, shuffle=True)\n",
    "train_labels.shape, val_labels.shape"
   ]
  },
  {
   "cell_type": "code",
   "execution_count": 25,
   "metadata": {},
   "outputs": [
    {
     "name": "stdout",
     "output_type": "stream",
     "text": [
      "Create sweep with ID: gi2ksmfk\n",
      "Sweep URL: https://wandb.ai/avyay/uncategorized/sweeps/gi2ksmfk\n"
     ]
    }
   ],
   "source": [
    "sweep_config = {\n",
    "  \"name\": \"Sweep Test Master\",\n",
    "  \"method\": \"grid\",\n",
    "  \"parameters\": {\n",
    "        \"epochs\": {\n",
    "            \"values\": [5, 10]\n",
    "        },\n",
    "        \"n_layers\": {\n",
    "            \"values\": [3, 4, 5]\n",
    "        }\n",
    "    }\n",
    "}\n",
    "\n",
    "sweep_id = wandb.sweep(sweep_config)"
   ]
  },
  {
   "cell_type": "code",
   "execution_count": 26,
   "metadata": {},
   "outputs": [
    {
     "name": "stderr",
     "output_type": "stream",
     "text": [
      "wandb: Agent Starting Run: kv1shhj5 with config:\n",
      "wandb: \tepochs: 5\n",
      "wandb: \tn_layers: 3\n",
      "wandb: wandb version 0.10.22 is available!  To upgrade, please run:\n",
      "wandb:  $ pip install wandb --upgrade\n"
     ]
    },
    {
     "data": {
      "text/html": [
       "\n",
       "                Tracking run with wandb version 0.10.21<br/>\n",
       "                Syncing run <strong style=\"color:#cdcd00\">generous-sweep-1</strong> to <a href=\"https://wandb.ai\" target=\"_blank\">Weights & Biases</a> <a href=\"https://docs.wandb.com/integrations/jupyter.html\" target=\"_blank\">(Documentation)</a>.<br/>\n",
       "                Project page: <a href=\"https://wandb.ai/avyay/uncategorized\" target=\"_blank\">https://wandb.ai/avyay/uncategorized</a><br/>\n",
       "                Sweep page: <a href=\"https://wandb.ai/avyay/uncategorized/sweeps/gi2ksmfk\" target=\"_blank\">https://wandb.ai/avyay/uncategorized/sweeps/gi2ksmfk</a><br/>\n",
       "Run page: <a href=\"https://wandb.ai/avyay/uncategorized/runs/kv1shhj5\" target=\"_blank\">https://wandb.ai/avyay/uncategorized/runs/kv1shhj5</a><br/>\n",
       "                Run data is saved locally in <code>C:\\Users\\rao_a\\PythonCPU\\Deep Learning\\CS6910-Assignments-1\\Assignment1\\wandb\\run-20210311_010250-kv1shhj5</code><br/><br/>\n",
       "            "
      ],
      "text/plain": [
       "<IPython.core.display.HTML object>"
      ]
     },
     "metadata": {},
     "output_type": "display_data"
    },
    {
     "name": "stdout",
     "output_type": "stream",
     "text": [
      "Epoch: 1 Train Loss: 0.707586 Train Accuracy: 0.744576 Val Loss: 0.479191 Val Accuracy: 0.829953\n",
      "Epoch: 2 Train Loss: 0.463202 Train Accuracy: 0.832161 Val Loss: 0.423518 Val Accuracy: 0.848238\n",
      "Epoch: 3 Train Loss: 0.413866 Train Accuracy: 0.850007 Val Loss: 0.402035 Val Accuracy: 0.853890\n",
      "Epoch: 4 Train Loss: 0.384985 Train Accuracy: 0.860264 Val Loss: 0.384555 Val Accuracy: 0.860539\n",
      "Epoch: 5 Train Loss: 0.365588 Train Accuracy: 0.866465 Val Loss: 0.371196 Val Accuracy: 0.865525\n",
      "\n",
      "Model trained successfully!\n"
     ]
    },
    {
     "data": {
      "text/html": [
       "<br/>Waiting for W&B process to finish, PID 14596<br/>Program ended successfully."
      ],
      "text/plain": [
       "<IPython.core.display.HTML object>"
      ]
     },
     "metadata": {},
     "output_type": "display_data"
    },
    {
     "data": {
      "text/html": [
       "Find user logs for this run at: <code>C:\\Users\\rao_a\\PythonCPU\\Deep Learning\\CS6910-Assignments-1\\Assignment1\\wandb\\run-20210311_010250-kv1shhj5\\logs\\debug.log</code>"
      ],
      "text/plain": [
       "<IPython.core.display.HTML object>"
      ]
     },
     "metadata": {},
     "output_type": "display_data"
    },
    {
     "data": {
      "text/html": [
       "Find internal logs for this run at: <code>C:\\Users\\rao_a\\PythonCPU\\Deep Learning\\CS6910-Assignments-1\\Assignment1\\wandb\\run-20210311_010250-kv1shhj5\\logs\\debug-internal.log</code>"
      ],
      "text/plain": [
       "<IPython.core.display.HTML object>"
      ]
     },
     "metadata": {},
     "output_type": "display_data"
    },
    {
     "data": {
      "text/html": [
       "<h3>Run summary:</h3><br/><style>\n",
       "    table.wandb td:nth-child(1) { padding: 0 10px; text-align: right }\n",
       "    </style><table class=\"wandb\">\n",
       "<tr><td>epoch</td><td>5</td></tr><tr><td>train_loss</td><td>0.36559</td></tr><tr><td>train_acc</td><td>0.86647</td></tr><tr><td>val_loss</td><td>0.3712</td></tr><tr><td>val_acc</td><td>0.86553</td></tr><tr><td>_runtime</td><td>11</td></tr><tr><td>_timestamp</td><td>1615404781</td></tr><tr><td>_step</td><td>4</td></tr></table>"
      ],
      "text/plain": [
       "<IPython.core.display.HTML object>"
      ]
     },
     "metadata": {},
     "output_type": "display_data"
    },
    {
     "data": {
      "text/html": [
       "<h3>Run history:</h3><br/><style>\n",
       "    table.wandb td:nth-child(1) { padding: 0 10px; text-align: right }\n",
       "    </style><table class=\"wandb\">\n",
       "<tr><td>epoch</td><td>▁▃▅▆█</td></tr><tr><td>train_loss</td><td>█▃▂▁▁</td></tr><tr><td>train_acc</td><td>▁▆▇██</td></tr><tr><td>val_loss</td><td>█▄▃▂▁</td></tr><tr><td>val_acc</td><td>▁▅▆▇█</td></tr><tr><td>_runtime</td><td>▁▃▅▆█</td></tr><tr><td>_timestamp</td><td>▁▃▅▆█</td></tr><tr><td>_step</td><td>▁▃▅▆█</td></tr></table><br/>"
      ],
      "text/plain": [
       "<IPython.core.display.HTML object>"
      ]
     },
     "metadata": {},
     "output_type": "display_data"
    },
    {
     "data": {
      "text/html": [
       "Synced 5 W&B file(s), 0 media file(s), 0 artifact file(s) and 0 other file(s)"
      ],
      "text/plain": [
       "<IPython.core.display.HTML object>"
      ]
     },
     "metadata": {},
     "output_type": "display_data"
    },
    {
     "data": {
      "text/html": [
       "\n",
       "                    <br/>Synced <strong style=\"color:#cdcd00\">generous-sweep-1</strong>: <a href=\"https://wandb.ai/avyay/uncategorized/runs/kv1shhj5\" target=\"_blank\">https://wandb.ai/avyay/uncategorized/runs/kv1shhj5</a><br/>\n",
       "                "
      ],
      "text/plain": [
       "<IPython.core.display.HTML object>"
      ]
     },
     "metadata": {},
     "output_type": "display_data"
    },
    {
     "name": "stderr",
     "output_type": "stream",
     "text": [
      "wandb: Agent Starting Run: g4dlo03v with config:\n",
      "wandb: \tepochs: 5\n",
      "wandb: \tn_layers: 4\n",
      "wandb: wandb version 0.10.22 is available!  To upgrade, please run:\n",
      "wandb:  $ pip install wandb --upgrade\n"
     ]
    },
    {
     "data": {
      "text/html": [
       "\n",
       "                Tracking run with wandb version 0.10.21<br/>\n",
       "                Syncing run <strong style=\"color:#cdcd00\">toasty-sweep-2</strong> to <a href=\"https://wandb.ai\" target=\"_blank\">Weights & Biases</a> <a href=\"https://docs.wandb.com/integrations/jupyter.html\" target=\"_blank\">(Documentation)</a>.<br/>\n",
       "                Project page: <a href=\"https://wandb.ai/avyay/uncategorized\" target=\"_blank\">https://wandb.ai/avyay/uncategorized</a><br/>\n",
       "                Sweep page: <a href=\"https://wandb.ai/avyay/uncategorized/sweeps/gi2ksmfk\" target=\"_blank\">https://wandb.ai/avyay/uncategorized/sweeps/gi2ksmfk</a><br/>\n",
       "Run page: <a href=\"https://wandb.ai/avyay/uncategorized/runs/g4dlo03v\" target=\"_blank\">https://wandb.ai/avyay/uncategorized/runs/g4dlo03v</a><br/>\n",
       "                Run data is saved locally in <code>C:\\Users\\rao_a\\PythonCPU\\Deep Learning\\CS6910-Assignments-1\\Assignment1\\wandb\\run-20210311_010306-g4dlo03v</code><br/><br/>\n",
       "            "
      ],
      "text/plain": [
       "<IPython.core.display.HTML object>"
      ]
     },
     "metadata": {},
     "output_type": "display_data"
    },
    {
     "name": "stdout",
     "output_type": "stream",
     "text": [
      "Epoch: 1 Train Loss: 0.723787 Train Accuracy: 0.735560 Val Loss: 0.477161 Val Accuracy: 0.827959\n",
      "Epoch: 2 Train Loss: 0.465409 Train Accuracy: 0.832439 Val Loss: 0.419655 Val Accuracy: 0.846576\n",
      "Epoch: 3 Train Loss: 0.416455 Train Accuracy: 0.849211 Val Loss: 0.388514 Val Accuracy: 0.861536\n",
      "Epoch: 4 Train Loss: 0.386872 Train Accuracy: 0.859282 Val Loss: 0.371048 Val Accuracy: 0.869681\n",
      "Epoch: 5 Train Loss: 0.366316 Train Accuracy: 0.866669 Val Loss: 0.362729 Val Accuracy: 0.872673\n",
      "\n",
      "Model trained successfully!\n"
     ]
    },
    {
     "data": {
      "text/html": [
       "<br/>Waiting for W&B process to finish, PID 1296<br/>Program ended successfully."
      ],
      "text/plain": [
       "<IPython.core.display.HTML object>"
      ]
     },
     "metadata": {},
     "output_type": "display_data"
    },
    {
     "data": {
      "text/html": [
       "Find user logs for this run at: <code>C:\\Users\\rao_a\\PythonCPU\\Deep Learning\\CS6910-Assignments-1\\Assignment1\\wandb\\run-20210311_010306-g4dlo03v\\logs\\debug.log</code>"
      ],
      "text/plain": [
       "<IPython.core.display.HTML object>"
      ]
     },
     "metadata": {},
     "output_type": "display_data"
    },
    {
     "data": {
      "text/html": [
       "Find internal logs for this run at: <code>C:\\Users\\rao_a\\PythonCPU\\Deep Learning\\CS6910-Assignments-1\\Assignment1\\wandb\\run-20210311_010306-g4dlo03v\\logs\\debug-internal.log</code>"
      ],
      "text/plain": [
       "<IPython.core.display.HTML object>"
      ]
     },
     "metadata": {},
     "output_type": "display_data"
    },
    {
     "data": {
      "text/html": [
       "<h3>Run summary:</h3><br/><style>\n",
       "    table.wandb td:nth-child(1) { padding: 0 10px; text-align: right }\n",
       "    </style><table class=\"wandb\">\n",
       "<tr><td>epoch</td><td>5</td></tr><tr><td>train_loss</td><td>0.36632</td></tr><tr><td>train_acc</td><td>0.86667</td></tr><tr><td>val_loss</td><td>0.36273</td></tr><tr><td>val_acc</td><td>0.87267</td></tr><tr><td>_runtime</td><td>14</td></tr><tr><td>_timestamp</td><td>1615404800</td></tr><tr><td>_step</td><td>4</td></tr></table>"
      ],
      "text/plain": [
       "<IPython.core.display.HTML object>"
      ]
     },
     "metadata": {},
     "output_type": "display_data"
    },
    {
     "data": {
      "text/html": [
       "<h3>Run history:</h3><br/><style>\n",
       "    table.wandb td:nth-child(1) { padding: 0 10px; text-align: right }\n",
       "    </style><table class=\"wandb\">\n",
       "<tr><td>epoch</td><td>▁▃▅▆█</td></tr><tr><td>train_loss</td><td>█▃▂▁▁</td></tr><tr><td>train_acc</td><td>▁▆▇██</td></tr><tr><td>val_loss</td><td>█▄▃▂▁</td></tr><tr><td>val_acc</td><td>▁▄▆██</td></tr><tr><td>_runtime</td><td>▁▃▅▇█</td></tr><tr><td>_timestamp</td><td>▁▃▅▇█</td></tr><tr><td>_step</td><td>▁▃▅▆█</td></tr></table><br/>"
      ],
      "text/plain": [
       "<IPython.core.display.HTML object>"
      ]
     },
     "metadata": {},
     "output_type": "display_data"
    },
    {
     "data": {
      "text/html": [
       "Synced 5 W&B file(s), 0 media file(s), 0 artifact file(s) and 0 other file(s)"
      ],
      "text/plain": [
       "<IPython.core.display.HTML object>"
      ]
     },
     "metadata": {},
     "output_type": "display_data"
    },
    {
     "data": {
      "text/html": [
       "\n",
       "                    <br/>Synced <strong style=\"color:#cdcd00\">toasty-sweep-2</strong>: <a href=\"https://wandb.ai/avyay/uncategorized/runs/g4dlo03v\" target=\"_blank\">https://wandb.ai/avyay/uncategorized/runs/g4dlo03v</a><br/>\n",
       "                "
      ],
      "text/plain": [
       "<IPython.core.display.HTML object>"
      ]
     },
     "metadata": {},
     "output_type": "display_data"
    },
    {
     "name": "stderr",
     "output_type": "stream",
     "text": [
      "wandb: Agent Starting Run: d6gj8f92 with config:\n",
      "wandb: \tepochs: 5\n",
      "wandb: \tn_layers: 5\n",
      "wandb: wandb version 0.10.22 is available!  To upgrade, please run:\n",
      "wandb:  $ pip install wandb --upgrade\n"
     ]
    },
    {
     "data": {
      "text/html": [
       "\n",
       "                Tracking run with wandb version 0.10.21<br/>\n",
       "                Syncing run <strong style=\"color:#cdcd00\">amber-sweep-3</strong> to <a href=\"https://wandb.ai\" target=\"_blank\">Weights & Biases</a> <a href=\"https://docs.wandb.com/integrations/jupyter.html\" target=\"_blank\">(Documentation)</a>.<br/>\n",
       "                Project page: <a href=\"https://wandb.ai/avyay/uncategorized\" target=\"_blank\">https://wandb.ai/avyay/uncategorized</a><br/>\n",
       "                Sweep page: <a href=\"https://wandb.ai/avyay/uncategorized/sweeps/gi2ksmfk\" target=\"_blank\">https://wandb.ai/avyay/uncategorized/sweeps/gi2ksmfk</a><br/>\n",
       "Run page: <a href=\"https://wandb.ai/avyay/uncategorized/runs/d6gj8f92\" target=\"_blank\">https://wandb.ai/avyay/uncategorized/runs/d6gj8f92</a><br/>\n",
       "                Run data is saved locally in <code>C:\\Users\\rao_a\\PythonCPU\\Deep Learning\\CS6910-Assignments-1\\Assignment1\\wandb\\run-20210311_010325-d6gj8f92</code><br/><br/>\n",
       "            "
      ],
      "text/plain": [
       "<IPython.core.display.HTML object>"
      ]
     },
     "metadata": {},
     "output_type": "display_data"
    },
    {
     "name": "stdout",
     "output_type": "stream",
     "text": [
      "Epoch: 1 Train Loss: 0.823852 Train Accuracy: 0.693091 Val Loss: 0.560746 Val Accuracy: 0.776928\n",
      "Epoch: 2 Train Loss: 0.499495 Train Accuracy: 0.820683 Val Loss: 0.465609 Val Accuracy: 0.826130\n",
      "Epoch: 3 Train Loss: 0.438374 Train Accuracy: 0.841010 Val Loss: 0.430273 Val Accuracy: 0.842254\n",
      "Epoch: 4 Train Loss: 0.403838 Train Accuracy: 0.853784 Val Loss: 0.411828 Val Accuracy: 0.842919\n",
      "Epoch: 5 Train Loss: 0.381374 Train Accuracy: 0.860375 Val Loss: 0.378228 Val Accuracy: 0.858211\n",
      "\n",
      "Model trained successfully!\n"
     ]
    },
    {
     "data": {
      "text/html": [
       "<br/>Waiting for W&B process to finish, PID 12372<br/>Program ended successfully."
      ],
      "text/plain": [
       "<IPython.core.display.HTML object>"
      ]
     },
     "metadata": {},
     "output_type": "display_data"
    },
    {
     "data": {
      "text/html": [
       "Find user logs for this run at: <code>C:\\Users\\rao_a\\PythonCPU\\Deep Learning\\CS6910-Assignments-1\\Assignment1\\wandb\\run-20210311_010325-d6gj8f92\\logs\\debug.log</code>"
      ],
      "text/plain": [
       "<IPython.core.display.HTML object>"
      ]
     },
     "metadata": {},
     "output_type": "display_data"
    },
    {
     "data": {
      "text/html": [
       "Find internal logs for this run at: <code>C:\\Users\\rao_a\\PythonCPU\\Deep Learning\\CS6910-Assignments-1\\Assignment1\\wandb\\run-20210311_010325-d6gj8f92\\logs\\debug-internal.log</code>"
      ],
      "text/plain": [
       "<IPython.core.display.HTML object>"
      ]
     },
     "metadata": {},
     "output_type": "display_data"
    },
    {
     "data": {
      "text/html": [
       "<h3>Run summary:</h3><br/><style>\n",
       "    table.wandb td:nth-child(1) { padding: 0 10px; text-align: right }\n",
       "    </style><table class=\"wandb\">\n",
       "<tr><td>epoch</td><td>5</td></tr><tr><td>train_loss</td><td>0.38137</td></tr><tr><td>train_acc</td><td>0.86037</td></tr><tr><td>val_loss</td><td>0.37823</td></tr><tr><td>val_acc</td><td>0.85821</td></tr><tr><td>_runtime</td><td>11</td></tr><tr><td>_timestamp</td><td>1615404816</td></tr><tr><td>_step</td><td>4</td></tr></table>"
      ],
      "text/plain": [
       "<IPython.core.display.HTML object>"
      ]
     },
     "metadata": {},
     "output_type": "display_data"
    },
    {
     "data": {
      "text/html": [
       "<h3>Run history:</h3><br/><style>\n",
       "    table.wandb td:nth-child(1) { padding: 0 10px; text-align: right }\n",
       "    </style><table class=\"wandb\">\n",
       "<tr><td>epoch</td><td>▁▃▅▆█</td></tr><tr><td>train_loss</td><td>█▃▂▁▁</td></tr><tr><td>train_acc</td><td>▁▆▇██</td></tr><tr><td>val_loss</td><td>█▄▃▂▁</td></tr><tr><td>val_acc</td><td>▁▅▇▇█</td></tr><tr><td>_runtime</td><td>▁▄▅▇█</td></tr><tr><td>_timestamp</td><td>▁▄▅▇█</td></tr><tr><td>_step</td><td>▁▃▅▆█</td></tr></table><br/>"
      ],
      "text/plain": [
       "<IPython.core.display.HTML object>"
      ]
     },
     "metadata": {},
     "output_type": "display_data"
    },
    {
     "data": {
      "text/html": [
       "Synced 5 W&B file(s), 0 media file(s), 0 artifact file(s) and 0 other file(s)"
      ],
      "text/plain": [
       "<IPython.core.display.HTML object>"
      ]
     },
     "metadata": {},
     "output_type": "display_data"
    },
    {
     "data": {
      "text/html": [
       "\n",
       "                    <br/>Synced <strong style=\"color:#cdcd00\">amber-sweep-3</strong>: <a href=\"https://wandb.ai/avyay/uncategorized/runs/d6gj8f92\" target=\"_blank\">https://wandb.ai/avyay/uncategorized/runs/d6gj8f92</a><br/>\n",
       "                "
      ],
      "text/plain": [
       "<IPython.core.display.HTML object>"
      ]
     },
     "metadata": {},
     "output_type": "display_data"
    },
    {
     "name": "stderr",
     "output_type": "stream",
     "text": [
      "wandb: Agent Starting Run: s3cec4oi with config:\n",
      "wandb: \tepochs: 10\n",
      "wandb: \tn_layers: 3\n",
      "wandb: wandb version 0.10.22 is available!  To upgrade, please run:\n",
      "wandb:  $ pip install wandb --upgrade\n"
     ]
    },
    {
     "data": {
      "text/html": [
       "\n",
       "                Tracking run with wandb version 0.10.21<br/>\n",
       "                Syncing run <strong style=\"color:#cdcd00\">peach-sweep-4</strong> to <a href=\"https://wandb.ai\" target=\"_blank\">Weights & Biases</a> <a href=\"https://docs.wandb.com/integrations/jupyter.html\" target=\"_blank\">(Documentation)</a>.<br/>\n",
       "                Project page: <a href=\"https://wandb.ai/avyay/uncategorized\" target=\"_blank\">https://wandb.ai/avyay/uncategorized</a><br/>\n",
       "                Sweep page: <a href=\"https://wandb.ai/avyay/uncategorized/sweeps/gi2ksmfk\" target=\"_blank\">https://wandb.ai/avyay/uncategorized/sweeps/gi2ksmfk</a><br/>\n",
       "Run page: <a href=\"https://wandb.ai/avyay/uncategorized/runs/s3cec4oi\" target=\"_blank\">https://wandb.ai/avyay/uncategorized/runs/s3cec4oi</a><br/>\n",
       "                Run data is saved locally in <code>C:\\Users\\rao_a\\PythonCPU\\Deep Learning\\CS6910-Assignments-1\\Assignment1\\wandb\\run-20210311_010341-s3cec4oi</code><br/><br/>\n",
       "            "
      ],
      "text/plain": [
       "<IPython.core.display.HTML object>"
      ]
     },
     "metadata": {},
     "output_type": "display_data"
    },
    {
     "name": "stdout",
     "output_type": "stream",
     "text": [
      "Epoch: 1 Train Loss: 0.724059 Train Accuracy: 0.734764 Val Loss: 0.531889 Val Accuracy: 0.808344\n",
      "Epoch: 2 Train Loss: 0.464440 Train Accuracy: 0.829736 Val Loss: 0.465766 Val Accuracy: 0.828624\n",
      "Epoch: 3 Train Loss: 0.411830 Train Accuracy: 0.847823 Val Loss: 0.451901 Val Accuracy: 0.833777\n",
      "Epoch: 4 Train Loss: 0.381701 Train Accuracy: 0.859338 Val Loss: 0.442429 Val Accuracy: 0.840592\n",
      "Epoch: 5 Train Loss: 0.362238 Train Accuracy: 0.866614 Val Loss: 0.426902 Val Accuracy: 0.848238\n",
      "Epoch: 6 Train Loss: 0.346477 Train Accuracy: 0.870723 Val Loss: 0.417017 Val Accuracy: 0.852560\n",
      "Epoch: 7 Train Loss: 0.334334 Train Accuracy: 0.876574 Val Loss: 0.421026 Val Accuracy: 0.851895\n",
      "Epoch: 8 Train Loss: 0.324204 Train Accuracy: 0.879961 Val Loss: 0.400390 Val Accuracy: 0.858211\n",
      "Epoch: 9 Train Loss: 0.315980 Train Accuracy: 0.883368 Val Loss: 0.406612 Val Accuracy: 0.859043\n",
      "Epoch: 10 Train Loss: 0.308049 Train Accuracy: 0.884849 Val Loss: 0.396572 Val Accuracy: 0.863531\n",
      "\n",
      "Model trained successfully!\n"
     ]
    },
    {
     "data": {
      "text/html": [
       "<br/>Waiting for W&B process to finish, PID 8072<br/>Program ended successfully."
      ],
      "text/plain": [
       "<IPython.core.display.HTML object>"
      ]
     },
     "metadata": {},
     "output_type": "display_data"
    },
    {
     "data": {
      "text/html": [
       "Find user logs for this run at: <code>C:\\Users\\rao_a\\PythonCPU\\Deep Learning\\CS6910-Assignments-1\\Assignment1\\wandb\\run-20210311_010341-s3cec4oi\\logs\\debug.log</code>"
      ],
      "text/plain": [
       "<IPython.core.display.HTML object>"
      ]
     },
     "metadata": {},
     "output_type": "display_data"
    },
    {
     "data": {
      "text/html": [
       "Find internal logs for this run at: <code>C:\\Users\\rao_a\\PythonCPU\\Deep Learning\\CS6910-Assignments-1\\Assignment1\\wandb\\run-20210311_010341-s3cec4oi\\logs\\debug-internal.log</code>"
      ],
      "text/plain": [
       "<IPython.core.display.HTML object>"
      ]
     },
     "metadata": {},
     "output_type": "display_data"
    },
    {
     "data": {
      "text/html": [
       "<h3>Run summary:</h3><br/><style>\n",
       "    table.wandb td:nth-child(1) { padding: 0 10px; text-align: right }\n",
       "    </style><table class=\"wandb\">\n",
       "<tr><td>epoch</td><td>10</td></tr><tr><td>train_loss</td><td>0.30805</td></tr><tr><td>train_acc</td><td>0.88485</td></tr><tr><td>val_loss</td><td>0.39657</td></tr><tr><td>val_acc</td><td>0.86353</td></tr><tr><td>_runtime</td><td>16</td></tr><tr><td>_timestamp</td><td>1615404837</td></tr><tr><td>_step</td><td>9</td></tr></table>"
      ],
      "text/plain": [
       "<IPython.core.display.HTML object>"
      ]
     },
     "metadata": {},
     "output_type": "display_data"
    },
    {
     "data": {
      "text/html": [
       "<h3>Run history:</h3><br/><style>\n",
       "    table.wandb td:nth-child(1) { padding: 0 10px; text-align: right }\n",
       "    </style><table class=\"wandb\">\n",
       "<tr><td>epoch</td><td>▁▂▃▃▄▅▆▆▇█</td></tr><tr><td>train_loss</td><td>█▄▃▂▂▂▁▁▁▁</td></tr><tr><td>train_acc</td><td>▁▅▆▇▇▇████</td></tr><tr><td>val_loss</td><td>█▅▄▃▃▂▂▁▂▁</td></tr><tr><td>val_acc</td><td>▁▄▄▅▆▇▇▇▇█</td></tr><tr><td>_runtime</td><td>▁▂▃▃▄▅▆▆▇█</td></tr><tr><td>_timestamp</td><td>▁▂▃▃▄▅▆▆▇█</td></tr><tr><td>_step</td><td>▁▂▃▃▄▅▆▆▇█</td></tr></table><br/>"
      ],
      "text/plain": [
       "<IPython.core.display.HTML object>"
      ]
     },
     "metadata": {},
     "output_type": "display_data"
    },
    {
     "data": {
      "text/html": [
       "Synced 5 W&B file(s), 0 media file(s), 0 artifact file(s) and 0 other file(s)"
      ],
      "text/plain": [
       "<IPython.core.display.HTML object>"
      ]
     },
     "metadata": {},
     "output_type": "display_data"
    },
    {
     "data": {
      "text/html": [
       "\n",
       "                    <br/>Synced <strong style=\"color:#cdcd00\">peach-sweep-4</strong>: <a href=\"https://wandb.ai/avyay/uncategorized/runs/s3cec4oi\" target=\"_blank\">https://wandb.ai/avyay/uncategorized/runs/s3cec4oi</a><br/>\n",
       "                "
      ],
      "text/plain": [
       "<IPython.core.display.HTML object>"
      ]
     },
     "metadata": {},
     "output_type": "display_data"
    },
    {
     "name": "stderr",
     "output_type": "stream",
     "text": [
      "wandb: Agent Starting Run: 7ndumqk6 with config:\n",
      "wandb: \tepochs: 10\n",
      "wandb: \tn_layers: 4\n",
      "wandb: wandb version 0.10.22 is available!  To upgrade, please run:\n",
      "wandb:  $ pip install wandb --upgrade\n"
     ]
    },
    {
     "data": {
      "text/html": [
       "\n",
       "                Tracking run with wandb version 0.10.21<br/>\n",
       "                Syncing run <strong style=\"color:#cdcd00\">bumbling-sweep-5</strong> to <a href=\"https://wandb.ai\" target=\"_blank\">Weights & Biases</a> <a href=\"https://docs.wandb.com/integrations/jupyter.html\" target=\"_blank\">(Documentation)</a>.<br/>\n",
       "                Project page: <a href=\"https://wandb.ai/avyay/uncategorized\" target=\"_blank\">https://wandb.ai/avyay/uncategorized</a><br/>\n",
       "                Sweep page: <a href=\"https://wandb.ai/avyay/uncategorized/sweeps/gi2ksmfk\" target=\"_blank\">https://wandb.ai/avyay/uncategorized/sweeps/gi2ksmfk</a><br/>\n",
       "Run page: <a href=\"https://wandb.ai/avyay/uncategorized/runs/7ndumqk6\" target=\"_blank\">https://wandb.ai/avyay/uncategorized/runs/7ndumqk6</a><br/>\n",
       "                Run data is saved locally in <code>C:\\Users\\rao_a\\PythonCPU\\Deep Learning\\CS6910-Assignments-1\\Assignment1\\wandb\\run-20210311_010401-7ndumqk6</code><br/><br/>\n",
       "            "
      ],
      "text/plain": [
       "<IPython.core.display.HTML object>"
      ]
     },
     "metadata": {},
     "output_type": "display_data"
    },
    {
     "name": "stdout",
     "output_type": "stream",
     "text": [
      "Epoch: 1 Train Loss: 0.806429 Train Accuracy: 0.692776 Val Loss: 0.499202 Val Accuracy: 0.824634\n",
      "Epoch: 2 Train Loss: 0.472711 Train Accuracy: 0.826144 Val Loss: 0.455530 Val Accuracy: 0.837766\n",
      "Epoch: 3 Train Loss: 0.420084 Train Accuracy: 0.844657 Val Loss: 0.428688 Val Accuracy: 0.848404\n",
      "Epoch: 4 Train Loss: 0.392173 Train Accuracy: 0.855580 Val Loss: 0.401063 Val Accuracy: 0.858710\n",
      "Epoch: 5 Train Loss: 0.371741 Train Accuracy: 0.863485 Val Loss: 0.390061 Val Accuracy: 0.860705\n",
      "Epoch: 6 Train Loss: 0.355661 Train Accuracy: 0.869002 Val Loss: 0.375442 Val Accuracy: 0.866523\n",
      "Epoch: 7 Train Loss: 0.343848 Train Accuracy: 0.873871 Val Loss: 0.369286 Val Accuracy: 0.867520\n",
      "Epoch: 8 Train Loss: 0.332831 Train Accuracy: 0.878666 Val Loss: 0.364717 Val Accuracy: 0.871177\n",
      "Epoch: 9 Train Loss: 0.323380 Train Accuracy: 0.882331 Val Loss: 0.362498 Val Accuracy: 0.869681\n",
      "Epoch: 10 Train Loss: 0.314731 Train Accuracy: 0.884886 Val Loss: 0.367900 Val Accuracy: 0.870512\n",
      "\n",
      "Model trained successfully!\n"
     ]
    },
    {
     "data": {
      "text/html": [
       "<br/>Waiting for W&B process to finish, PID 7808<br/>Program ended successfully."
      ],
      "text/plain": [
       "<IPython.core.display.HTML object>"
      ]
     },
     "metadata": {},
     "output_type": "display_data"
    },
    {
     "data": {
      "text/html": [
       "Find user logs for this run at: <code>C:\\Users\\rao_a\\PythonCPU\\Deep Learning\\CS6910-Assignments-1\\Assignment1\\wandb\\run-20210311_010401-7ndumqk6\\logs\\debug.log</code>"
      ],
      "text/plain": [
       "<IPython.core.display.HTML object>"
      ]
     },
     "metadata": {},
     "output_type": "display_data"
    },
    {
     "data": {
      "text/html": [
       "Find internal logs for this run at: <code>C:\\Users\\rao_a\\PythonCPU\\Deep Learning\\CS6910-Assignments-1\\Assignment1\\wandb\\run-20210311_010401-7ndumqk6\\logs\\debug-internal.log</code>"
      ],
      "text/plain": [
       "<IPython.core.display.HTML object>"
      ]
     },
     "metadata": {},
     "output_type": "display_data"
    },
    {
     "data": {
      "text/html": [
       "<h3>Run summary:</h3><br/><style>\n",
       "    table.wandb td:nth-child(1) { padding: 0 10px; text-align: right }\n",
       "    </style><table class=\"wandb\">\n",
       "<tr><td>epoch</td><td>10</td></tr><tr><td>train_loss</td><td>0.31473</td></tr><tr><td>train_acc</td><td>0.88489</td></tr><tr><td>val_loss</td><td>0.3679</td></tr><tr><td>val_acc</td><td>0.87051</td></tr><tr><td>_runtime</td><td>16</td></tr><tr><td>_timestamp</td><td>1615404857</td></tr><tr><td>_step</td><td>9</td></tr></table>"
      ],
      "text/plain": [
       "<IPython.core.display.HTML object>"
      ]
     },
     "metadata": {},
     "output_type": "display_data"
    },
    {
     "data": {
      "text/html": [
       "<h3>Run history:</h3><br/><style>\n",
       "    table.wandb td:nth-child(1) { padding: 0 10px; text-align: right }\n",
       "    </style><table class=\"wandb\">\n",
       "<tr><td>epoch</td><td>▁▂▃▃▄▅▆▆▇█</td></tr><tr><td>train_loss</td><td>█▃▂▂▂▂▁▁▁▁</td></tr><tr><td>train_acc</td><td>▁▆▇▇▇▇████</td></tr><tr><td>val_loss</td><td>█▆▄▃▂▂▁▁▁▁</td></tr><tr><td>val_acc</td><td>▁▃▅▆▆▇▇███</td></tr><tr><td>_runtime</td><td>▁▂▃▃▄▅▆▆▇█</td></tr><tr><td>_timestamp</td><td>▁▂▃▃▄▅▆▆▇█</td></tr><tr><td>_step</td><td>▁▂▃▃▄▅▆▆▇█</td></tr></table><br/>"
      ],
      "text/plain": [
       "<IPython.core.display.HTML object>"
      ]
     },
     "metadata": {},
     "output_type": "display_data"
    },
    {
     "data": {
      "text/html": [
       "Synced 5 W&B file(s), 0 media file(s), 0 artifact file(s) and 0 other file(s)"
      ],
      "text/plain": [
       "<IPython.core.display.HTML object>"
      ]
     },
     "metadata": {},
     "output_type": "display_data"
    },
    {
     "data": {
      "text/html": [
       "\n",
       "                    <br/>Synced <strong style=\"color:#cdcd00\">bumbling-sweep-5</strong>: <a href=\"https://wandb.ai/avyay/uncategorized/runs/7ndumqk6\" target=\"_blank\">https://wandb.ai/avyay/uncategorized/runs/7ndumqk6</a><br/>\n",
       "                "
      ],
      "text/plain": [
       "<IPython.core.display.HTML object>"
      ]
     },
     "metadata": {},
     "output_type": "display_data"
    },
    {
     "name": "stderr",
     "output_type": "stream",
     "text": [
      "wandb: Agent Starting Run: 874lshk1 with config:\n",
      "wandb: \tepochs: 10\n",
      "wandb: \tn_layers: 5\n",
      "wandb: wandb version 0.10.22 is available!  To upgrade, please run:\n",
      "wandb:  $ pip install wandb --upgrade\n"
     ]
    },
    {
     "data": {
      "text/html": [
       "\n",
       "                Tracking run with wandb version 0.10.21<br/>\n",
       "                Syncing run <strong style=\"color:#cdcd00\">sleek-sweep-6</strong> to <a href=\"https://wandb.ai\" target=\"_blank\">Weights & Biases</a> <a href=\"https://docs.wandb.com/integrations/jupyter.html\" target=\"_blank\">(Documentation)</a>.<br/>\n",
       "                Project page: <a href=\"https://wandb.ai/avyay/uncategorized\" target=\"_blank\">https://wandb.ai/avyay/uncategorized</a><br/>\n",
       "                Sweep page: <a href=\"https://wandb.ai/avyay/uncategorized/sweeps/gi2ksmfk\" target=\"_blank\">https://wandb.ai/avyay/uncategorized/sweeps/gi2ksmfk</a><br/>\n",
       "Run page: <a href=\"https://wandb.ai/avyay/uncategorized/runs/874lshk1\" target=\"_blank\">https://wandb.ai/avyay/uncategorized/runs/874lshk1</a><br/>\n",
       "                Run data is saved locally in <code>C:\\Users\\rao_a\\PythonCPU\\Deep Learning\\CS6910-Assignments-1\\Assignment1\\wandb\\run-20210311_010421-874lshk1</code><br/><br/>\n",
       "            "
      ],
      "text/plain": [
       "<IPython.core.display.HTML object>"
      ]
     },
     "metadata": {},
     "output_type": "display_data"
    },
    {
     "name": "stdout",
     "output_type": "stream",
     "text": [
      "Epoch: 1 Train Loss: 0.890992 Train Accuracy: 0.659730 Val Loss: 0.547724 Val Accuracy: 0.806682\n",
      "Epoch: 2 Train Loss: 0.522716 Train Accuracy: 0.810704 Val Loss: 0.465211 Val Accuracy: 0.829289\n",
      "Epoch: 3 Train Loss: 0.449406 Train Accuracy: 0.836326 Val Loss: 0.422801 Val Accuracy: 0.844415\n",
      "Epoch: 4 Train Loss: 0.410553 Train Accuracy: 0.850211 Val Loss: 0.401962 Val Accuracy: 0.850565\n",
      "Epoch: 5 Train Loss: 0.385624 Train Accuracy: 0.858949 Val Loss: 0.398798 Val Accuracy: 0.853557\n",
      "Epoch: 6 Train Loss: 0.368754 Train Accuracy: 0.864207 Val Loss: 0.396831 Val Accuracy: 0.856383\n",
      "Epoch: 7 Train Loss: 0.353456 Train Accuracy: 0.869354 Val Loss: 0.388774 Val Accuracy: 0.857713\n",
      "Epoch: 8 Train Loss: 0.342268 Train Accuracy: 0.873889 Val Loss: 0.384002 Val Accuracy: 0.862699\n",
      "Epoch: 9 Train Loss: 0.333036 Train Accuracy: 0.876203 Val Loss: 0.378483 Val Accuracy: 0.863531\n",
      "Epoch: 10 Train Loss: 0.324798 Train Accuracy: 0.879499 Val Loss: 0.381444 Val Accuracy: 0.862866\n",
      "\n",
      "Model trained successfully!\n"
     ]
    },
    {
     "data": {
      "text/html": [
       "<br/>Waiting for W&B process to finish, PID 15928<br/>Program ended successfully."
      ],
      "text/plain": [
       "<IPython.core.display.HTML object>"
      ]
     },
     "metadata": {},
     "output_type": "display_data"
    },
    {
     "data": {
      "text/html": [
       "Find user logs for this run at: <code>C:\\Users\\rao_a\\PythonCPU\\Deep Learning\\CS6910-Assignments-1\\Assignment1\\wandb\\run-20210311_010421-874lshk1\\logs\\debug.log</code>"
      ],
      "text/plain": [
       "<IPython.core.display.HTML object>"
      ]
     },
     "metadata": {},
     "output_type": "display_data"
    },
    {
     "data": {
      "text/html": [
       "Find internal logs for this run at: <code>C:\\Users\\rao_a\\PythonCPU\\Deep Learning\\CS6910-Assignments-1\\Assignment1\\wandb\\run-20210311_010421-874lshk1\\logs\\debug-internal.log</code>"
      ],
      "text/plain": [
       "<IPython.core.display.HTML object>"
      ]
     },
     "metadata": {},
     "output_type": "display_data"
    },
    {
     "data": {
      "text/html": [
       "<h3>Run summary:</h3><br/><style>\n",
       "    table.wandb td:nth-child(1) { padding: 0 10px; text-align: right }\n",
       "    </style><table class=\"wandb\">\n",
       "<tr><td>epoch</td><td>10</td></tr><tr><td>train_loss</td><td>0.3248</td></tr><tr><td>train_acc</td><td>0.8795</td></tr><tr><td>val_loss</td><td>0.38144</td></tr><tr><td>val_acc</td><td>0.86287</td></tr><tr><td>_runtime</td><td>15</td></tr><tr><td>_timestamp</td><td>1615404876</td></tr><tr><td>_step</td><td>9</td></tr></table>"
      ],
      "text/plain": [
       "<IPython.core.display.HTML object>"
      ]
     },
     "metadata": {},
     "output_type": "display_data"
    },
    {
     "data": {
      "text/html": [
       "<h3>Run history:</h3><br/><style>\n",
       "    table.wandb td:nth-child(1) { padding: 0 10px; text-align: right }\n",
       "    </style><table class=\"wandb\">\n",
       "<tr><td>epoch</td><td>▁▂▃▃▄▅▆▆▇█</td></tr><tr><td>train_loss</td><td>█▃▃▂▂▂▁▁▁▁</td></tr><tr><td>train_acc</td><td>▁▆▇▇▇█████</td></tr><tr><td>val_loss</td><td>█▅▃▂▂▂▁▁▁▁</td></tr><tr><td>val_acc</td><td>▁▄▆▆▇▇▇███</td></tr><tr><td>_runtime</td><td>▁▂▃▃▄▅▆▆▇█</td></tr><tr><td>_timestamp</td><td>▁▂▃▃▄▅▆▆▇█</td></tr><tr><td>_step</td><td>▁▂▃▃▄▅▆▆▇█</td></tr></table><br/>"
      ],
      "text/plain": [
       "<IPython.core.display.HTML object>"
      ]
     },
     "metadata": {},
     "output_type": "display_data"
    },
    {
     "data": {
      "text/html": [
       "Synced 5 W&B file(s), 0 media file(s), 0 artifact file(s) and 0 other file(s)"
      ],
      "text/plain": [
       "<IPython.core.display.HTML object>"
      ]
     },
     "metadata": {},
     "output_type": "display_data"
    },
    {
     "data": {
      "text/html": [
       "\n",
       "                    <br/>Synced <strong style=\"color:#cdcd00\">sleek-sweep-6</strong>: <a href=\"https://wandb.ai/avyay/uncategorized/runs/874lshk1\" target=\"_blank\">https://wandb.ai/avyay/uncategorized/runs/874lshk1</a><br/>\n",
       "                "
      ],
      "text/plain": [
       "<IPython.core.display.HTML object>"
      ]
     },
     "metadata": {},
     "output_type": "display_data"
    },
    {
     "name": "stderr",
     "output_type": "stream",
     "text": [
      "wandb: Sweep Agent: Waiting for job.\n",
      "wandb: Sweep Agent: Exiting.\n"
     ]
    }
   ],
   "source": [
    "wandb.agent(sweep_id, function=train)"
   ]
  },
  {
   "cell_type": "code",
   "execution_count": null,
   "metadata": {},
   "outputs": [],
   "source": [
    "## Load MNIST dataset"
   ]
  },
  {
   "cell_type": "code",
   "execution_count": 13,
   "metadata": {},
   "outputs": [
    {
     "name": "stdout",
     "output_type": "stream",
     "text": [
      "Train samples: 60000 Test samples: 10000\n"
     ]
    }
   ],
   "source": [
    "fashion_mnist = tf.keras.datasets.fashion_mnist\n",
    "(train_images, train_labels), (test_images, test_labels) = fashion_mnist.load_data()\n",
    "class_names = ['T-shirt/top', 'Trouser', 'Pullover', 'Dress', 'Coat',\n",
    "                   'Sandal', 'Shirt', 'Sneaker', 'Bag', 'Ankle boot']\n",
    "\n",
    "train_images = train_images / 255.0\n",
    "test_images = test_images / 255.0\n",
    "\n",
    "print(f\"Train samples: {train_images.shape[0]} Test samples: {test_images.shape[0]}\")"
   ]
  },
  {
   "cell_type": "code",
   "execution_count": 14,
   "metadata": {},
   "outputs": [
    {
     "data": {
      "image/png": "[encoded data removed]",
      "text/plain": "<Figure size 1080x432 with 10 Axes>"
     },
     "metadata": {
      "needs_background": "light"
     },
     "output_type": "display_data"
    }
   ],
   "source": [
    "## Utility functions for preprocessing data ##\r\n",
    "\r\n",
    "def flatten(arr):\r\n",
    "    arr = arr.reshape(arr.shape[0], -1)\r\n",
    "    return arr\r\n",
    "\r\n",
    "def plot_labels(data, labels, flatten=False):\r\n",
    "\r\n",
    "    class_names = ['T-shirt/top', 'Trouser', 'Pullover', 'Dress', 'Coat',\r\n",
    "                   'Sandal', 'Shirt', 'Sneaker', 'Bag', 'Ankle boot']\r\n",
    "    uniq_labels = np.unique(labels)\r\n",
    "\r\n",
    "    fig, ax = plt.subplots(2,5, figsize=(15, 6))\r\n",
    "    fig.subplots_adjust(wspace=0.3, hspace=0.3)\r\n",
    "    ax = ax.reshape(-1)\r\n",
    "\r\n",
    "    for i, label in enumerate(uniq_labels):\r\n",
    "\r\n",
    "        img = data[np.where(labels == label)[0][0]]\r\n",
    "\r\n",
    "        ax[i].set_title(class_names[label])\r\n",
    "        \r\n",
    "        if flatten:\r\n",
    "            img = img.reshape(28, 28)\r\n",
    "\r\n",
    "        ax[i].imshow(img)\r\n",
    "    \r\n",
    "    plt.show()\r\n",
    "\r\n",
    "plot_labels(train_images, train_labels)"
   ]
  },
  {
   "cell_type": "code",
   "execution_count": 15,
   "metadata": {},
   "outputs": [
    {
     "name": "stdout",
     "output_type": "stream",
     "text": [
      "Train samples: 54000 Validation samples: 6000\n"
     ]
    }
   ],
   "source": [
    "train_images = flatten(train_images)\r\n",
    "test_images = flatten(test_images)\r\n",
    "\r\n",
    "train_images, val_images, train_labels, val_labels = train_test_split(train_images, train_labels, test_size=0.1, shuffle=True)\r\n",
    "\r\n",
    "print(f\"Train samples: {train_labels.shape[0]} Validation samples: {val_labels.shape[0]}\")"
   ]
  },
  {
   "cell_type": "code",
   "execution_count": 17,
   "metadata": {},
   "outputs": [
    {
     "name": "stdout",
     "output_type": "stream",
     "text": [
      "Epoch: 1 Train Loss: 0.6722545449003707 Train Accuracy: 0.7659106296547055 Val Loss: 0.5032093439514117 Val Accuracy: 0.8209061550151976\n",
      "Epoch: 2 Train Loss: 0.4753314078292404 Train Accuracy: 0.8319704214624237 Val Loss: 0.4503441649326295 Val Accuracy: 0.8365786474164134\n",
      "Epoch: 3 Train Loss: 0.4290909648269082 Train Accuracy: 0.8473521073121192 Val Loss: 0.4221163670308154 Val Accuracy: 0.8472644376899695\n",
      "Epoch: 4 Train Loss: 0.40248318952485135 Train Accuracy: 0.8564949009817198 Val Loss: 0.403969582743929 Val Accuracy: 0.8551006838905776\n",
      "Epoch: 5 Train Loss: 0.38354867623408406 Train Accuracy: 0.8624613871022342 Val Loss: 0.3915943723543957 Val Accuracy: 0.8594462386018237\n",
      "\n",
      "Model trained successfully!\n"
     ]
    }
   ],
   "source": [
    "# creating an instance of the model\r\n",
    "model = NeuralNet([FC(784, 64), ReLU(), FC(64, 10)])\r\n",
    "\r\n",
    "# setting up the loss and the optimizer\r\n",
    "optimizer = SGD()\r\n",
    "loss = CrossEntropyLossFromLogits()\r\n",
    "\r\n",
    "# compiling the model\r\n",
    "model.compile(loss, optimizer)\r\n",
    "\r\n",
    "# training and validation\r\n",
    "model.fit(train_images, train_labels, val_images, val_labels, batch_size=128, epochs=5)"
   ]
  },
  {
   "cell_type": "code",
   "execution_count": null,
   "metadata": {},
   "outputs": [],
   "source": []
  }
 ],
 "metadata": {
  "kernelspec": {
   "display_name": "Python 3.8.8 64-bit ('tf_gpu': virtualenvwrapper)",
   "name": "python388jvsc74a57bd05522738d40babb9c768336fdb9237d6cf3809fcc3ab10607c134036db240b616"
  },
  "language_info": {
   "codemirror_mode": {
    "name": "ipython",
    "version": 3
   },
   "file_extension": ".py",
   "mimetype": "text/x-python",
   "name": "python",
   "nbconvert_exporter": "python",
   "pygments_lexer": "ipython3",
   "version": "3.8.8"
  },
  "metadata": {
   "interpreter": {
    "hash": "5522738d40babb9c768336fdb9237d6cf3809fcc3ab10607c134036db240b616"
   }
  }
 },
 "nbformat": 4,
 "nbformat_minor": 5
}